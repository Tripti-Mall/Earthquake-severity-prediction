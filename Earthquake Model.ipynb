{
 "cells": [
  {
   "cell_type": "markdown",
   "id": "864f871b",
   "metadata": {},
   "source": [
    "### Name:\n",
    "Earthquake Severity Prediction Model\n",
    "\n",
    "### Title:\n",
    "Early Warning System for Earthquakes\n",
    "\n",
    "### Objective:\n",
    "\n",
    "The primary goal of this project is to create a robust machine learning model that accurately predicts earthquake severity. The model will leverage seismic data, geographical features, and historical records obtained through Google Data search and USGS.gov (web scraping).The objective is to develop a highly accurate and reliable predictive tool. The intended outcome is to enhance earthquake preparedness and response strategies in high-risk areas by providing early warnings based on the model's predictions. This initiative aims to mitigate the impact of unpredictable natural disasters, potentially saving lives and minimizing damages.\n"
   ]
  },
  {
   "cell_type": "code",
   "execution_count": 19,
   "id": "18d88526",
   "metadata": {},
   "outputs": [],
   "source": [
    "import numpy as np \n",
    "import matplotlib.pyplot as plt \n",
    "import pandas as pd\n",
    "import seaborn as sns\n",
    "from sklearn.preprocessing import LabelEncoder"
   ]
  },
  {
   "cell_type": "code",
   "execution_count": 3,
   "id": "56f0e302",
   "metadata": {},
   "outputs": [
    {
     "data": {
      "text/html": [
       "<div>\n",
       "<style scoped>\n",
       "    .dataframe tbody tr th:only-of-type {\n",
       "        vertical-align: middle;\n",
       "    }\n",
       "\n",
       "    .dataframe tbody tr th {\n",
       "        vertical-align: top;\n",
       "    }\n",
       "\n",
       "    .dataframe thead th {\n",
       "        text-align: right;\n",
       "    }\n",
       "</style>\n",
       "<table border=\"1\" class=\"dataframe\">\n",
       "  <thead>\n",
       "    <tr style=\"text-align: right;\">\n",
       "      <th></th>\n",
       "      <th>title</th>\n",
       "      <th>magnitude</th>\n",
       "      <th>date_time</th>\n",
       "      <th>cdi</th>\n",
       "      <th>mmi</th>\n",
       "      <th>alert</th>\n",
       "      <th>tsunami</th>\n",
       "      <th>sig</th>\n",
       "      <th>net</th>\n",
       "      <th>nst</th>\n",
       "      <th>dmin</th>\n",
       "      <th>gap</th>\n",
       "      <th>magType</th>\n",
       "      <th>depth</th>\n",
       "      <th>latitude</th>\n",
       "      <th>longitude</th>\n",
       "      <th>location</th>\n",
       "      <th>continent</th>\n",
       "      <th>country</th>\n",
       "    </tr>\n",
       "  </thead>\n",
       "  <tbody>\n",
       "    <tr>\n",
       "      <th>0</th>\n",
       "      <td>M 6.5 - 42 km W of Sola, Vanuatu</td>\n",
       "      <td>6.5</td>\n",
       "      <td>16-08-2023 12:47</td>\n",
       "      <td>7</td>\n",
       "      <td>4</td>\n",
       "      <td>green</td>\n",
       "      <td>0</td>\n",
       "      <td>657</td>\n",
       "      <td>us</td>\n",
       "      <td>114</td>\n",
       "      <td>7.177000</td>\n",
       "      <td>25.0</td>\n",
       "      <td>mww</td>\n",
       "      <td>192.955</td>\n",
       "      <td>-13.8814</td>\n",
       "      <td>167.1580</td>\n",
       "      <td>Sola, Vanuatu</td>\n",
       "      <td>NaN</td>\n",
       "      <td>Vanuatu</td>\n",
       "    </tr>\n",
       "    <tr>\n",
       "      <th>1</th>\n",
       "      <td>M 6.5 - 43 km S of Intipucá, El Salvador</td>\n",
       "      <td>6.5</td>\n",
       "      <td>19-07-2023 00:22</td>\n",
       "      <td>8</td>\n",
       "      <td>6</td>\n",
       "      <td>yellow</td>\n",
       "      <td>0</td>\n",
       "      <td>775</td>\n",
       "      <td>us</td>\n",
       "      <td>92</td>\n",
       "      <td>0.679000</td>\n",
       "      <td>40.0</td>\n",
       "      <td>mww</td>\n",
       "      <td>69.727</td>\n",
       "      <td>12.8140</td>\n",
       "      <td>-88.1265</td>\n",
       "      <td>Intipucá, El Salvador</td>\n",
       "      <td>NaN</td>\n",
       "      <td>NaN</td>\n",
       "    </tr>\n",
       "    <tr>\n",
       "      <th>2</th>\n",
       "      <td>M 6.6 - 25 km ESE of Loncopué, Argentina</td>\n",
       "      <td>6.6</td>\n",
       "      <td>17-07-2023 03:05</td>\n",
       "      <td>7</td>\n",
       "      <td>5</td>\n",
       "      <td>green</td>\n",
       "      <td>0</td>\n",
       "      <td>899</td>\n",
       "      <td>us</td>\n",
       "      <td>70</td>\n",
       "      <td>1.634000</td>\n",
       "      <td>28.0</td>\n",
       "      <td>mww</td>\n",
       "      <td>171.371</td>\n",
       "      <td>-38.1911</td>\n",
       "      <td>-70.3731</td>\n",
       "      <td>Loncopué, Argentina</td>\n",
       "      <td>South America</td>\n",
       "      <td>Argentina</td>\n",
       "    </tr>\n",
       "    <tr>\n",
       "      <th>3</th>\n",
       "      <td>M 7.2 - 98 km S of Sand Point, Alaska</td>\n",
       "      <td>7.2</td>\n",
       "      <td>16-07-2023 06:48</td>\n",
       "      <td>6</td>\n",
       "      <td>6</td>\n",
       "      <td>green</td>\n",
       "      <td>1</td>\n",
       "      <td>860</td>\n",
       "      <td>us</td>\n",
       "      <td>173</td>\n",
       "      <td>0.907000</td>\n",
       "      <td>36.0</td>\n",
       "      <td>mww</td>\n",
       "      <td>32.571</td>\n",
       "      <td>54.3844</td>\n",
       "      <td>-160.6990</td>\n",
       "      <td>Sand Point, Alaska</td>\n",
       "      <td>NaN</td>\n",
       "      <td>NaN</td>\n",
       "    </tr>\n",
       "    <tr>\n",
       "      <th>4</th>\n",
       "      <td>M 7.3 - Alaska Peninsula</td>\n",
       "      <td>7.3</td>\n",
       "      <td>16-07-2023 06:48</td>\n",
       "      <td>0</td>\n",
       "      <td>5</td>\n",
       "      <td>NaN</td>\n",
       "      <td>1</td>\n",
       "      <td>820</td>\n",
       "      <td>at</td>\n",
       "      <td>79</td>\n",
       "      <td>0.879451</td>\n",
       "      <td>172.8</td>\n",
       "      <td>Mi</td>\n",
       "      <td>21.000</td>\n",
       "      <td>54.4900</td>\n",
       "      <td>-160.7960</td>\n",
       "      <td>Alaska Peninsula</td>\n",
       "      <td>NaN</td>\n",
       "      <td>NaN</td>\n",
       "    </tr>\n",
       "  </tbody>\n",
       "</table>\n",
       "</div>"
      ],
      "text/plain": [
       "                                      title  magnitude         date_time  cdi  \\\n",
       "0          M 6.5 - 42 km W of Sola, Vanuatu        6.5  16-08-2023 12:47    7   \n",
       "1  M 6.5 - 43 km S of Intipucá, El Salvador        6.5  19-07-2023 00:22    8   \n",
       "2  M 6.6 - 25 km ESE of Loncopué, Argentina        6.6  17-07-2023 03:05    7   \n",
       "3     M 7.2 - 98 km S of Sand Point, Alaska        7.2  16-07-2023 06:48    6   \n",
       "4                  M 7.3 - Alaska Peninsula        7.3  16-07-2023 06:48    0   \n",
       "\n",
       "   mmi   alert  tsunami  sig net  nst      dmin    gap magType    depth  \\\n",
       "0    4   green        0  657  us  114  7.177000   25.0     mww  192.955   \n",
       "1    6  yellow        0  775  us   92  0.679000   40.0     mww   69.727   \n",
       "2    5   green        0  899  us   70  1.634000   28.0     mww  171.371   \n",
       "3    6   green        1  860  us  173  0.907000   36.0     mww   32.571   \n",
       "4    5     NaN        1  820  at   79  0.879451  172.8      Mi   21.000   \n",
       "\n",
       "   latitude  longitude               location      continent    country  \n",
       "0  -13.8814   167.1580          Sola, Vanuatu            NaN    Vanuatu  \n",
       "1   12.8140   -88.1265  Intipucá, El Salvador            NaN        NaN  \n",
       "2  -38.1911   -70.3731    Loncopué, Argentina  South America  Argentina  \n",
       "3   54.3844  -160.6990     Sand Point, Alaska            NaN        NaN  \n",
       "4   54.4900  -160.7960       Alaska Peninsula            NaN        NaN  "
      ]
     },
     "execution_count": 3,
     "metadata": {},
     "output_type": "execute_result"
    }
   ],
   "source": [
    "df= pd.read_csv('earthquake_1995-2023.csv')\n",
    "df.head()"
   ]
  },
  {
   "cell_type": "raw",
   "id": "35c567b0",
   "metadata": {},
   "source": [
    "title:title name given to the earthquake\n",
    "\n",
    "magnitude: The magnitude of the earthquake\n",
    "\n",
    "date_time: date and time\n",
    "\n",
    "cdi: The maximum reported intensity for the event range\n",
    "\n",
    "mmi: The maximum estimated instrumental intensity for the event\n",
    "\n",
    "alert: The alert level - “green”, “yellow”, “orange”, and “red”\n",
    "\n",
    "tsunami: \"1\" for events in oceanic regions and \"0\" otherwise\n",
    "\n",
    "sig: A number describing how significant the event is. Larger the number, more significant the event. This value is determined on a number of factors, including: magnitude, maximum MMI, felt reports, and estimated impact\n",
    "\n",
    "net: The ID of a data contributor. Identifies the network considered to be the preferred source of information for this event.\n",
    "\n",
    "nst: The total number of seismic stations used to determine earthquake location.\n",
    "\n",
    "dmin: Horizontal distance from the epicenter to the nearest station\n",
    "\n",
    "gap: The largest azimuthal gap between azimuthally adjacent stations (in degrees). In general, the smaller this number, the more reliable is the calculated horizontal position of the earthquake. Earthquake locations in which the azimuthal gap exceeds 180 degrees typically have large location and depth uncertainties\n",
    "\n",
    "magType: The method or algorithm used to calculate the preferred magnitude for the event\n",
    "\n",
    "depth: The depth where the earthquake begins to rupture\n",
    "\n",
    "latitude / longitude: coordinate system by means of which the position or location of any place on Earth's surface can be determined and described\n",
    "\n",
    "location: location within the country\n",
    "\n",
    "continent: continent of the earthquake hit country\n",
    "\n",
    "country: affected country"
   ]
  },
  {
   "cell_type": "code",
   "execution_count": 5,
   "id": "fc95d5ae",
   "metadata": {},
   "outputs": [
    {
     "name": "stdout",
     "output_type": "stream",
     "text": [
      "<class 'pandas.core.frame.DataFrame'>\n",
      "RangeIndex: 1000 entries, 0 to 999\n",
      "Data columns (total 19 columns):\n",
      " #   Column     Non-Null Count  Dtype  \n",
      "---  ------     --------------  -----  \n",
      " 0   title      1000 non-null   object \n",
      " 1   magnitude  1000 non-null   float64\n",
      " 2   date_time  1000 non-null   object \n",
      " 3   cdi        1000 non-null   int64  \n",
      " 4   mmi        1000 non-null   int64  \n",
      " 5   alert      449 non-null    object \n",
      " 6   tsunami    1000 non-null   int64  \n",
      " 7   sig        1000 non-null   int64  \n",
      " 8   net        1000 non-null   object \n",
      " 9   nst        1000 non-null   int64  \n",
      " 10  dmin       1000 non-null   float64\n",
      " 11  gap        1000 non-null   float64\n",
      " 12  magType    1000 non-null   object \n",
      " 13  depth      1000 non-null   float64\n",
      " 14  latitude   1000 non-null   float64\n",
      " 15  longitude  1000 non-null   float64\n",
      " 16  location   994 non-null    object \n",
      " 17  continent  284 non-null    object \n",
      " 18  country    651 non-null    object \n",
      "dtypes: float64(6), int64(5), object(8)\n",
      "memory usage: 148.6+ KB\n"
     ]
    }
   ],
   "source": [
    "df.info()"
   ]
  },
  {
   "cell_type": "code",
   "execution_count": 6,
   "id": "273728b8",
   "metadata": {},
   "outputs": [
    {
     "data": {
      "text/plain": [
       "title          0\n",
       "magnitude      0\n",
       "date_time      0\n",
       "cdi            0\n",
       "mmi            0\n",
       "alert        551\n",
       "tsunami        0\n",
       "sig            0\n",
       "net            0\n",
       "nst            0\n",
       "dmin           0\n",
       "gap            0\n",
       "magType        0\n",
       "depth          0\n",
       "latitude       0\n",
       "longitude      0\n",
       "location       6\n",
       "continent    716\n",
       "country      349\n",
       "dtype: int64"
      ]
     },
     "execution_count": 6,
     "metadata": {},
     "output_type": "execute_result"
    }
   ],
   "source": [
    "df.isnull().sum()"
   ]
  },
  {
   "cell_type": "code",
   "execution_count": 7,
   "id": "933f2f86",
   "metadata": {},
   "outputs": [
    {
     "data": {
      "text/plain": [
       "green     353\n",
       "yellow     59\n",
       "orange     24\n",
       "red        13\n",
       "Name: alert, dtype: int64"
      ]
     },
     "execution_count": 7,
     "metadata": {},
     "output_type": "execute_result"
    }
   ],
   "source": [
    "df[\"alert\"].value_counts()"
   ]
  },
  {
   "cell_type": "code",
   "execution_count": 8,
   "id": "62d62346",
   "metadata": {},
   "outputs": [],
   "source": [
    "df[\"alert\"] = df[\"alert\"].fillna(\"red\")\n"
   ]
  },
  {
   "cell_type": "code",
   "execution_count": 9,
   "id": "de4125a9",
   "metadata": {},
   "outputs": [
    {
     "data": {
      "text/plain": [
       "title          0\n",
       "magnitude      0\n",
       "date_time      0\n",
       "cdi            0\n",
       "mmi            0\n",
       "alert          0\n",
       "tsunami        0\n",
       "sig            0\n",
       "net            0\n",
       "nst            0\n",
       "dmin           0\n",
       "gap            0\n",
       "magType        0\n",
       "depth          0\n",
       "latitude       0\n",
       "longitude      0\n",
       "location       6\n",
       "continent    716\n",
       "country      349\n",
       "dtype: int64"
      ]
     },
     "execution_count": 9,
     "metadata": {},
     "output_type": "execute_result"
    }
   ],
   "source": [
    "df.isnull().sum()"
   ]
  },
  {
   "cell_type": "code",
   "execution_count": 10,
   "id": "ed922193",
   "metadata": {},
   "outputs": [],
   "source": [
    "df.drop(columns=['continent'], inplace=True)"
   ]
  },
  {
   "cell_type": "code",
   "execution_count": 11,
   "id": "70c03bd9",
   "metadata": {},
   "outputs": [],
   "source": [
    "df.drop(columns=['country'], inplace=True)"
   ]
  },
  {
   "cell_type": "code",
   "execution_count": 12,
   "id": "336c9c23",
   "metadata": {},
   "outputs": [],
   "source": [
    "df.drop(columns=['location'], inplace=True)"
   ]
  },
  {
   "cell_type": "code",
   "execution_count": 13,
   "id": "231dfd7b",
   "metadata": {},
   "outputs": [
    {
     "data": {
      "text/plain": [
       "title        0\n",
       "magnitude    0\n",
       "date_time    0\n",
       "cdi          0\n",
       "mmi          0\n",
       "alert        0\n",
       "tsunami      0\n",
       "sig          0\n",
       "net          0\n",
       "nst          0\n",
       "dmin         0\n",
       "gap          0\n",
       "magType      0\n",
       "depth        0\n",
       "latitude     0\n",
       "longitude    0\n",
       "dtype: int64"
      ]
     },
     "execution_count": 13,
     "metadata": {},
     "output_type": "execute_result"
    }
   ],
   "source": [
    "df.isnull().sum()"
   ]
  },
  {
   "cell_type": "code",
   "execution_count": 14,
   "id": "c6d2999c",
   "metadata": {},
   "outputs": [
    {
     "data": {
      "image/png": "[encoded data removed]",
      "text/plain": [
       "<Figure size 432x288 with 1 Axes>"
      ]
     },
     "metadata": {
      "needs_background": "light"
     },
     "output_type": "display_data"
    }
   ],
   "source": [
    "sns.histplot(df['magnitude'], bins=20, kde=True)\n",
    "plt.xlabel('Magnitude')\n",
    "plt.ylabel('Frequency')\n",
    "plt.title('Distribution of Magnitudes')\n",
    "plt.show()"
   ]
  },
  {
   "cell_type": "code",
   "execution_count": 15,
   "id": "a0873fed",
   "metadata": {},
   "outputs": [
    {
     "data": {
      "text/html": [
       "<div>\n",
       "<style scoped>\n",
       "    .dataframe tbody tr th:only-of-type {\n",
       "        vertical-align: middle;\n",
       "    }\n",
       "\n",
       "    .dataframe tbody tr th {\n",
       "        vertical-align: top;\n",
       "    }\n",
       "\n",
       "    .dataframe thead th {\n",
       "        text-align: right;\n",
       "    }\n",
       "</style>\n",
       "<table border=\"1\" class=\"dataframe\">\n",
       "  <thead>\n",
       "    <tr style=\"text-align: right;\">\n",
       "      <th></th>\n",
       "      <th>Name</th>\n",
       "      <th>magnitude</th>\n",
       "      <th>date_time</th>\n",
       "      <th>cdi</th>\n",
       "      <th>mmi</th>\n",
       "      <th>alert</th>\n",
       "      <th>tsunami</th>\n",
       "      <th>sig</th>\n",
       "      <th>net</th>\n",
       "      <th>nst</th>\n",
       "      <th>dmin</th>\n",
       "      <th>gap</th>\n",
       "      <th>magType</th>\n",
       "      <th>depth</th>\n",
       "      <th>latitude</th>\n",
       "      <th>longitude</th>\n",
       "    </tr>\n",
       "  </thead>\n",
       "  <tbody>\n",
       "    <tr>\n",
       "      <th>0</th>\n",
       "      <td>M 6.5 - 42 km W of Sola, Vanuatu</td>\n",
       "      <td>6.5</td>\n",
       "      <td>16-08-2023 12:47</td>\n",
       "      <td>7</td>\n",
       "      <td>4</td>\n",
       "      <td>green</td>\n",
       "      <td>0</td>\n",
       "      <td>657</td>\n",
       "      <td>us</td>\n",
       "      <td>114</td>\n",
       "      <td>7.177000</td>\n",
       "      <td>25.0</td>\n",
       "      <td>mww</td>\n",
       "      <td>192.955</td>\n",
       "      <td>-13.8814</td>\n",
       "      <td>167.1580</td>\n",
       "    </tr>\n",
       "    <tr>\n",
       "      <th>1</th>\n",
       "      <td>M 6.5 - 43 km S of Intipucá, El Salvador</td>\n",
       "      <td>6.5</td>\n",
       "      <td>19-07-2023 00:22</td>\n",
       "      <td>8</td>\n",
       "      <td>6</td>\n",
       "      <td>yellow</td>\n",
       "      <td>0</td>\n",
       "      <td>775</td>\n",
       "      <td>us</td>\n",
       "      <td>92</td>\n",
       "      <td>0.679000</td>\n",
       "      <td>40.0</td>\n",
       "      <td>mww</td>\n",
       "      <td>69.727</td>\n",
       "      <td>12.8140</td>\n",
       "      <td>-88.1265</td>\n",
       "    </tr>\n",
       "    <tr>\n",
       "      <th>2</th>\n",
       "      <td>M 6.6 - 25 km ESE of Loncopué, Argentina</td>\n",
       "      <td>6.6</td>\n",
       "      <td>17-07-2023 03:05</td>\n",
       "      <td>7</td>\n",
       "      <td>5</td>\n",
       "      <td>green</td>\n",
       "      <td>0</td>\n",
       "      <td>899</td>\n",
       "      <td>us</td>\n",
       "      <td>70</td>\n",
       "      <td>1.634000</td>\n",
       "      <td>28.0</td>\n",
       "      <td>mww</td>\n",
       "      <td>171.371</td>\n",
       "      <td>-38.1911</td>\n",
       "      <td>-70.3731</td>\n",
       "    </tr>\n",
       "    <tr>\n",
       "      <th>3</th>\n",
       "      <td>M 7.2 - 98 km S of Sand Point, Alaska</td>\n",
       "      <td>7.2</td>\n",
       "      <td>16-07-2023 06:48</td>\n",
       "      <td>6</td>\n",
       "      <td>6</td>\n",
       "      <td>green</td>\n",
       "      <td>1</td>\n",
       "      <td>860</td>\n",
       "      <td>us</td>\n",
       "      <td>173</td>\n",
       "      <td>0.907000</td>\n",
       "      <td>36.0</td>\n",
       "      <td>mww</td>\n",
       "      <td>32.571</td>\n",
       "      <td>54.3844</td>\n",
       "      <td>-160.6990</td>\n",
       "    </tr>\n",
       "    <tr>\n",
       "      <th>4</th>\n",
       "      <td>M 7.3 - Alaska Peninsula</td>\n",
       "      <td>7.3</td>\n",
       "      <td>16-07-2023 06:48</td>\n",
       "      <td>0</td>\n",
       "      <td>5</td>\n",
       "      <td>red</td>\n",
       "      <td>1</td>\n",
       "      <td>820</td>\n",
       "      <td>at</td>\n",
       "      <td>79</td>\n",
       "      <td>0.879451</td>\n",
       "      <td>172.8</td>\n",
       "      <td>Mi</td>\n",
       "      <td>21.000</td>\n",
       "      <td>54.4900</td>\n",
       "      <td>-160.7960</td>\n",
       "    </tr>\n",
       "    <tr>\n",
       "      <th>...</th>\n",
       "      <td>...</td>\n",
       "      <td>...</td>\n",
       "      <td>...</td>\n",
       "      <td>...</td>\n",
       "      <td>...</td>\n",
       "      <td>...</td>\n",
       "      <td>...</td>\n",
       "      <td>...</td>\n",
       "      <td>...</td>\n",
       "      <td>...</td>\n",
       "      <td>...</td>\n",
       "      <td>...</td>\n",
       "      <td>...</td>\n",
       "      <td>...</td>\n",
       "      <td>...</td>\n",
       "      <td>...</td>\n",
       "    </tr>\n",
       "    <tr>\n",
       "      <th>995</th>\n",
       "      <td>M 7.1 - 85 km S of Tungor, Russia</td>\n",
       "      <td>7.1</td>\n",
       "      <td>27-05-1995 13:03</td>\n",
       "      <td>0</td>\n",
       "      <td>9</td>\n",
       "      <td>red</td>\n",
       "      <td>0</td>\n",
       "      <td>776</td>\n",
       "      <td>us</td>\n",
       "      <td>0</td>\n",
       "      <td>0.000000</td>\n",
       "      <td>0.0</td>\n",
       "      <td>mwb</td>\n",
       "      <td>11.000</td>\n",
       "      <td>52.6290</td>\n",
       "      <td>142.8270</td>\n",
       "    </tr>\n",
       "    <tr>\n",
       "      <th>996</th>\n",
       "      <td>M 7.7 - 249 km E of Vao, New Caledonia</td>\n",
       "      <td>7.7</td>\n",
       "      <td>16-05-1995 20:12</td>\n",
       "      <td>0</td>\n",
       "      <td>4</td>\n",
       "      <td>red</td>\n",
       "      <td>0</td>\n",
       "      <td>912</td>\n",
       "      <td>us</td>\n",
       "      <td>0</td>\n",
       "      <td>0.000000</td>\n",
       "      <td>0.0</td>\n",
       "      <td>mw</td>\n",
       "      <td>20.200</td>\n",
       "      <td>-23.0080</td>\n",
       "      <td>169.9000</td>\n",
       "    </tr>\n",
       "    <tr>\n",
       "      <th>997</th>\n",
       "      <td>M 6.9 - 27 km NNW of Maubara, Timor Leste</td>\n",
       "      <td>6.9</td>\n",
       "      <td>14-05-1995 11:33</td>\n",
       "      <td>0</td>\n",
       "      <td>6</td>\n",
       "      <td>red</td>\n",
       "      <td>0</td>\n",
       "      <td>732</td>\n",
       "      <td>us</td>\n",
       "      <td>0</td>\n",
       "      <td>0.000000</td>\n",
       "      <td>0.0</td>\n",
       "      <td>mw</td>\n",
       "      <td>11.200</td>\n",
       "      <td>-8.3780</td>\n",
       "      <td>125.1270</td>\n",
       "    </tr>\n",
       "    <tr>\n",
       "      <th>998</th>\n",
       "      <td>M 6.6 - 10 km W of Aianí, Greece</td>\n",
       "      <td>6.6</td>\n",
       "      <td>13-05-1995 08:47</td>\n",
       "      <td>0</td>\n",
       "      <td>9</td>\n",
       "      <td>red</td>\n",
       "      <td>0</td>\n",
       "      <td>670</td>\n",
       "      <td>us</td>\n",
       "      <td>0</td>\n",
       "      <td>0.000000</td>\n",
       "      <td>0.0</td>\n",
       "      <td>mw</td>\n",
       "      <td>14.000</td>\n",
       "      <td>40.1490</td>\n",
       "      <td>21.6950</td>\n",
       "    </tr>\n",
       "    <tr>\n",
       "      <th>999</th>\n",
       "      <td>M 7.1 - 14 km NE of Cabatuan, Philippines</td>\n",
       "      <td>7.1</td>\n",
       "      <td>05-05-1995 03:53</td>\n",
       "      <td>0</td>\n",
       "      <td>7</td>\n",
       "      <td>red</td>\n",
       "      <td>0</td>\n",
       "      <td>776</td>\n",
       "      <td>us</td>\n",
       "      <td>0</td>\n",
       "      <td>0.000000</td>\n",
       "      <td>0.0</td>\n",
       "      <td>mw</td>\n",
       "      <td>16.000</td>\n",
       "      <td>12.6260</td>\n",
       "      <td>125.2970</td>\n",
       "    </tr>\n",
       "  </tbody>\n",
       "</table>\n",
       "<p>1000 rows × 16 columns</p>\n",
       "</div>"
      ],
      "text/plain": [
       "                                         title  magnitude         date_time  \\\n",
       "0             M 6.5 - 42 km W of Sola, Vanuatu        6.5  16-08-2023 12:47   \n",
       "1     M 6.5 - 43 km S of Intipucá, El Salvador        6.5  19-07-2023 00:22   \n",
       "2     M 6.6 - 25 km ESE of Loncopué, Argentina        6.6  17-07-2023 03:05   \n",
       "3        M 7.2 - 98 km S of Sand Point, Alaska        7.2  16-07-2023 06:48   \n",
       "4                     M 7.3 - Alaska Peninsula        7.3  16-07-2023 06:48   \n",
       "..                                         ...        ...               ...   \n",
       "995          M 7.1 - 85 km S of Tungor, Russia        7.1  27-05-1995 13:03   \n",
       "996     M 7.7 - 249 km E of Vao, New Caledonia        7.7  16-05-1995 20:12   \n",
       "997  M 6.9 - 27 km NNW of Maubara, Timor Leste        6.9  14-05-1995 11:33   \n",
       "998           M 6.6 - 10 km W of Aianí, Greece        6.6  13-05-1995 08:47   \n",
       "999  M 7.1 - 14 km NE of Cabatuan, Philippines        7.1  05-05-1995 03:53   \n",
       "\n",
       "     cdi  mmi   alert  tsunami  sig net  nst      dmin    gap magType  \\\n",
       "0      7    4   green        0  657  us  114  7.177000   25.0     mww   \n",
       "1      8    6  yellow        0  775  us   92  0.679000   40.0     mww   \n",
       "2      7    5   green        0  899  us   70  1.634000   28.0     mww   \n",
       "3      6    6   green        1  860  us  173  0.907000   36.0     mww   \n",
       "4      0    5     red        1  820  at   79  0.879451  172.8      Mi   \n",
       "..   ...  ...     ...      ...  ...  ..  ...       ...    ...     ...   \n",
       "995    0    9     red        0  776  us    0  0.000000    0.0     mwb   \n",
       "996    0    4     red        0  912  us    0  0.000000    0.0      mw   \n",
       "997    0    6     red        0  732  us    0  0.000000    0.0      mw   \n",
       "998    0    9     red        0  670  us    0  0.000000    0.0      mw   \n",
       "999    0    7     red        0  776  us    0  0.000000    0.0      mw   \n",
       "\n",
       "       depth  latitude  longitude  \n",
       "0    192.955  -13.8814   167.1580  \n",
       "1     69.727   12.8140   -88.1265  \n",
       "2    171.371  -38.1911   -70.3731  \n",
       "3     32.571   54.3844  -160.6990  \n",
       "4     21.000   54.4900  -160.7960  \n",
       "..       ...       ...        ...  \n",
       "995   11.000   52.6290   142.8270  \n",
       "996   20.200  -23.0080   169.9000  \n",
       "997   11.200   -8.3780   125.1270  \n",
       "998   14.000   40.1490    21.6950  \n",
       "999   16.000   12.6260   125.2970  \n",
       "\n",
       "[1000 rows x 16 columns]"
      ]
     },
     "execution_count": 15,
     "metadata": {},
     "output_type": "execute_result"
    }
   ],
   "source": [
    "df"
   ]
  },
  {
   "cell_type": "code",
   "execution_count": 16,
   "id": "6b4d3034",
   "metadata": {},
   "outputs": [
    {
     "name": "stdout",
     "output_type": "stream",
     "text": [
      "<class 'pandas.core.frame.DataFrame'>\n",
      "RangeIndex: 1000 entries, 0 to 999\n",
      "Data columns (total 16 columns):\n",
      " #   Column     Non-Null Count  Dtype         \n",
      "---  ------     --------------  -----         \n",
      " 0   title      1000 non-null   object        \n",
      " 1   magnitude  1000 non-null   float64       \n",
      " 2   date_time  1000 non-null   datetime64[ns]\n",
      " 3   cdi        1000 non-null   int64         \n",
      " 4   mmi        1000 non-null   int64         \n",
      " 5   alert      1000 non-null   object        \n",
      " 6   tsunami    1000 non-null   int64         \n",
      " 7   sig        1000 non-null   int64         \n",
      " 8   net        1000 non-null   object        \n",
      " 9   nst        1000 non-null   int64         \n",
      " 10  dmin       1000 non-null   float64       \n",
      " 11  gap        1000 non-null   float64       \n",
      " 12  magType    1000 non-null   object        \n",
      " 13  depth      1000 non-null   float64       \n",
      " 14  latitude   1000 non-null   float64       \n",
      " 15  longitude  1000 non-null   float64       \n",
      "dtypes: datetime64[ns](1), float64(6), int64(5), object(4)\n",
      "memory usage: 125.1+ KB\n"
     ]
    }
   ],
   "source": [
    "df[\"date_time\"]=pd.to_datetime(df[\"date_time\"])\n",
    "df.info()"
   ]
  },
  {
   "cell_type": "code",
   "execution_count": 17,
   "id": "b147f3da",
   "metadata": {},
   "outputs": [],
   "source": [
    "df[\"date_time\"]=pd.DatetimeIndex(df[\"date_time\"]).month"
   ]
  },
  {
   "cell_type": "code",
   "execution_count": 18,
   "id": "ea44fca5",
   "metadata": {},
   "outputs": [
    {
     "data": {
      "text/html": [
       "<div>\n",
       "<style scoped>\n",
       "    .dataframe tbody tr th:only-of-type {\n",
       "        vertical-align: middle;\n",
       "    }\n",
       "\n",
       "    .dataframe tbody tr th {\n",
       "        vertical-align: top;\n",
       "    }\n",
       "\n",
       "    .dataframe thead th {\n",
       "        text-align: right;\n",
       "    }\n",
       "</style>\n",
       "<table border=\"1\" class=\"dataframe\">\n",
       "  <thead>\n",
       "    <tr style=\"text-align: right;\">\n",
       "      <th></th>\n",
       "      <th>title</th>\n",
       "      <th>alert</th>\n",
       "      <th>net</th>\n",
       "      <th>magType</th>\n",
       "    </tr>\n",
       "  </thead>\n",
       "  <tbody>\n",
       "    <tr>\n",
       "      <th>count</th>\n",
       "      <td>1000</td>\n",
       "      <td>1000</td>\n",
       "      <td>1000</td>\n",
       "      <td>1000</td>\n",
       "    </tr>\n",
       "    <tr>\n",
       "      <th>unique</th>\n",
       "      <td>984</td>\n",
       "      <td>4</td>\n",
       "      <td>11</td>\n",
       "      <td>9</td>\n",
       "    </tr>\n",
       "    <tr>\n",
       "      <th>top</th>\n",
       "      <td>M 6.5 - Kermadec Islands, New Zealand</td>\n",
       "      <td>red</td>\n",
       "      <td>us</td>\n",
       "      <td>mww</td>\n",
       "    </tr>\n",
       "    <tr>\n",
       "      <th>freq</th>\n",
       "      <td>3</td>\n",
       "      <td>564</td>\n",
       "      <td>960</td>\n",
       "      <td>502</td>\n",
       "    </tr>\n",
       "  </tbody>\n",
       "</table>\n",
       "</div>"
      ],
      "text/plain": [
       "                                        title alert   net magType\n",
       "count                                    1000  1000  1000    1000\n",
       "unique                                    984     4    11       9\n",
       "top     M 6.5 - Kermadec Islands, New Zealand   red    us     mww\n",
       "freq                                        3   564   960     502"
      ]
     },
     "execution_count": 18,
     "metadata": {},
     "output_type": "execute_result"
    }
   ],
   "source": [
    "df.describe(include=['object'])"
   ]
  },
  {
   "cell_type": "code",
   "execution_count": 18,
   "id": "79c5c2b2",
   "metadata": {},
   "outputs": [
    {
     "data": {
      "text/plain": [
       "mww    502\n",
       "mwc    332\n",
       "mwb    100\n",
       "mw      51\n",
       "Mi       5\n",
       "mb       4\n",
       "ms       3\n",
       "md       2\n",
       "ml       1\n",
       "Name: magType, dtype: int64"
      ]
     },
     "execution_count": 18,
     "metadata": {},
     "output_type": "execute_result"
    }
   ],
   "source": [
    "df.magType.value_counts()"
   ]
  },
  {
   "cell_type": "code",
   "execution_count": 20,
   "id": "1b59c03b",
   "metadata": {},
   "outputs": [
    {
     "data": {
      "text/html": [
       "<div>\n",
       "<style scoped>\n",
       "    .dataframe tbody tr th:only-of-type {\n",
       "        vertical-align: middle;\n",
       "    }\n",
       "\n",
       "    .dataframe tbody tr th {\n",
       "        vertical-align: top;\n",
       "    }\n",
       "\n",
       "    .dataframe thead th {\n",
       "        text-align: right;\n",
       "    }\n",
       "</style>\n",
       "<table border=\"1\" class=\"dataframe\">\n",
       "  <thead>\n",
       "    <tr style=\"text-align: right;\">\n",
       "      <th></th>\n",
       "      <th>title</th>\n",
       "      <th>magnitude</th>\n",
       "      <th>date_time</th>\n",
       "      <th>cdi</th>\n",
       "      <th>mmi</th>\n",
       "      <th>alert</th>\n",
       "      <th>tsunami</th>\n",
       "      <th>sig</th>\n",
       "      <th>net</th>\n",
       "      <th>nst</th>\n",
       "      <th>dmin</th>\n",
       "      <th>gap</th>\n",
       "      <th>magType</th>\n",
       "      <th>depth</th>\n",
       "      <th>latitude</th>\n",
       "      <th>longitude</th>\n",
       "    </tr>\n",
       "  </thead>\n",
       "  <tbody>\n",
       "    <tr>\n",
       "      <th>0</th>\n",
       "      <td>M 6.5 - 42 km W of Sola, Vanuatu</td>\n",
       "      <td>6.5</td>\n",
       "      <td>8</td>\n",
       "      <td>7</td>\n",
       "      <td>4</td>\n",
       "      <td>0</td>\n",
       "      <td>0</td>\n",
       "      <td>657</td>\n",
       "      <td>9</td>\n",
       "      <td>114</td>\n",
       "      <td>7.177000</td>\n",
       "      <td>25.0</td>\n",
       "      <td>8</td>\n",
       "      <td>192.955</td>\n",
       "      <td>-13.8814</td>\n",
       "      <td>167.1580</td>\n",
       "    </tr>\n",
       "    <tr>\n",
       "      <th>1</th>\n",
       "      <td>M 6.5 - 43 km S of Intipucá, El Salvador</td>\n",
       "      <td>6.5</td>\n",
       "      <td>7</td>\n",
       "      <td>8</td>\n",
       "      <td>6</td>\n",
       "      <td>3</td>\n",
       "      <td>0</td>\n",
       "      <td>775</td>\n",
       "      <td>9</td>\n",
       "      <td>92</td>\n",
       "      <td>0.679000</td>\n",
       "      <td>40.0</td>\n",
       "      <td>8</td>\n",
       "      <td>69.727</td>\n",
       "      <td>12.8140</td>\n",
       "      <td>-88.1265</td>\n",
       "    </tr>\n",
       "    <tr>\n",
       "      <th>2</th>\n",
       "      <td>M 6.6 - 25 km ESE of Loncopué, Argentina</td>\n",
       "      <td>6.6</td>\n",
       "      <td>7</td>\n",
       "      <td>7</td>\n",
       "      <td>5</td>\n",
       "      <td>0</td>\n",
       "      <td>0</td>\n",
       "      <td>899</td>\n",
       "      <td>9</td>\n",
       "      <td>70</td>\n",
       "      <td>1.634000</td>\n",
       "      <td>28.0</td>\n",
       "      <td>8</td>\n",
       "      <td>171.371</td>\n",
       "      <td>-38.1911</td>\n",
       "      <td>-70.3731</td>\n",
       "    </tr>\n",
       "    <tr>\n",
       "      <th>3</th>\n",
       "      <td>M 7.2 - 98 km S of Sand Point, Alaska</td>\n",
       "      <td>7.2</td>\n",
       "      <td>7</td>\n",
       "      <td>6</td>\n",
       "      <td>6</td>\n",
       "      <td>0</td>\n",
       "      <td>1</td>\n",
       "      <td>860</td>\n",
       "      <td>9</td>\n",
       "      <td>173</td>\n",
       "      <td>0.907000</td>\n",
       "      <td>36.0</td>\n",
       "      <td>8</td>\n",
       "      <td>32.571</td>\n",
       "      <td>54.3844</td>\n",
       "      <td>-160.6990</td>\n",
       "    </tr>\n",
       "    <tr>\n",
       "      <th>4</th>\n",
       "      <td>M 7.3 - Alaska Peninsula</td>\n",
       "      <td>7.3</td>\n",
       "      <td>7</td>\n",
       "      <td>0</td>\n",
       "      <td>5</td>\n",
       "      <td>2</td>\n",
       "      <td>1</td>\n",
       "      <td>820</td>\n",
       "      <td>1</td>\n",
       "      <td>79</td>\n",
       "      <td>0.879451</td>\n",
       "      <td>172.8</td>\n",
       "      <td>0</td>\n",
       "      <td>21.000</td>\n",
       "      <td>54.4900</td>\n",
       "      <td>-160.7960</td>\n",
       "    </tr>\n",
       "    <tr>\n",
       "      <th>...</th>\n",
       "      <td>...</td>\n",
       "      <td>...</td>\n",
       "      <td>...</td>\n",
       "      <td>...</td>\n",
       "      <td>...</td>\n",
       "      <td>...</td>\n",
       "      <td>...</td>\n",
       "      <td>...</td>\n",
       "      <td>...</td>\n",
       "      <td>...</td>\n",
       "      <td>...</td>\n",
       "      <td>...</td>\n",
       "      <td>...</td>\n",
       "      <td>...</td>\n",
       "      <td>...</td>\n",
       "      <td>...</td>\n",
       "    </tr>\n",
       "    <tr>\n",
       "      <th>995</th>\n",
       "      <td>M 7.1 - 85 km S of Tungor, Russia</td>\n",
       "      <td>7.1</td>\n",
       "      <td>5</td>\n",
       "      <td>0</td>\n",
       "      <td>9</td>\n",
       "      <td>2</td>\n",
       "      <td>0</td>\n",
       "      <td>776</td>\n",
       "      <td>9</td>\n",
       "      <td>0</td>\n",
       "      <td>0.000000</td>\n",
       "      <td>0.0</td>\n",
       "      <td>6</td>\n",
       "      <td>11.000</td>\n",
       "      <td>52.6290</td>\n",
       "      <td>142.8270</td>\n",
       "    </tr>\n",
       "    <tr>\n",
       "      <th>996</th>\n",
       "      <td>M 7.7 - 249 km E of Vao, New Caledonia</td>\n",
       "      <td>7.7</td>\n",
       "      <td>5</td>\n",
       "      <td>0</td>\n",
       "      <td>4</td>\n",
       "      <td>2</td>\n",
       "      <td>0</td>\n",
       "      <td>912</td>\n",
       "      <td>9</td>\n",
       "      <td>0</td>\n",
       "      <td>0.000000</td>\n",
       "      <td>0.0</td>\n",
       "      <td>5</td>\n",
       "      <td>20.200</td>\n",
       "      <td>-23.0080</td>\n",
       "      <td>169.9000</td>\n",
       "    </tr>\n",
       "    <tr>\n",
       "      <th>997</th>\n",
       "      <td>M 6.9 - 27 km NNW of Maubara, Timor Leste</td>\n",
       "      <td>6.9</td>\n",
       "      <td>5</td>\n",
       "      <td>0</td>\n",
       "      <td>6</td>\n",
       "      <td>2</td>\n",
       "      <td>0</td>\n",
       "      <td>732</td>\n",
       "      <td>9</td>\n",
       "      <td>0</td>\n",
       "      <td>0.000000</td>\n",
       "      <td>0.0</td>\n",
       "      <td>5</td>\n",
       "      <td>11.200</td>\n",
       "      <td>-8.3780</td>\n",
       "      <td>125.1270</td>\n",
       "    </tr>\n",
       "    <tr>\n",
       "      <th>998</th>\n",
       "      <td>M 6.6 - 10 km W of Aianí, Greece</td>\n",
       "      <td>6.6</td>\n",
       "      <td>5</td>\n",
       "      <td>0</td>\n",
       "      <td>9</td>\n",
       "      <td>2</td>\n",
       "      <td>0</td>\n",
       "      <td>670</td>\n",
       "      <td>9</td>\n",
       "      <td>0</td>\n",
       "      <td>0.000000</td>\n",
       "      <td>0.0</td>\n",
       "      <td>5</td>\n",
       "      <td>14.000</td>\n",
       "      <td>40.1490</td>\n",
       "      <td>21.6950</td>\n",
       "    </tr>\n",
       "    <tr>\n",
       "      <th>999</th>\n",
       "      <td>M 7.1 - 14 km NE of Cabatuan, Philippines</td>\n",
       "      <td>7.1</td>\n",
       "      <td>5</td>\n",
       "      <td>0</td>\n",
       "      <td>7</td>\n",
       "      <td>2</td>\n",
       "      <td>0</td>\n",
       "      <td>776</td>\n",
       "      <td>9</td>\n",
       "      <td>0</td>\n",
       "      <td>0.000000</td>\n",
       "      <td>0.0</td>\n",
       "      <td>5</td>\n",
       "      <td>16.000</td>\n",
       "      <td>12.6260</td>\n",
       "      <td>125.2970</td>\n",
       "    </tr>\n",
       "  </tbody>\n",
       "</table>\n",
       "<p>1000 rows × 16 columns</p>\n",
       "</div>"
      ],
      "text/plain": [
       "                                         title  magnitude  date_time  cdi  \\\n",
       "0             M 6.5 - 42 km W of Sola, Vanuatu        6.5          8    7   \n",
       "1     M 6.5 - 43 km S of Intipucá, El Salvador        6.5          7    8   \n",
       "2     M 6.6 - 25 km ESE of Loncopué, Argentina        6.6          7    7   \n",
       "3        M 7.2 - 98 km S of Sand Point, Alaska        7.2          7    6   \n",
       "4                     M 7.3 - Alaska Peninsula        7.3          7    0   \n",
       "..                                         ...        ...        ...  ...   \n",
       "995          M 7.1 - 85 km S of Tungor, Russia        7.1          5    0   \n",
       "996     M 7.7 - 249 km E of Vao, New Caledonia        7.7          5    0   \n",
       "997  M 6.9 - 27 km NNW of Maubara, Timor Leste        6.9          5    0   \n",
       "998           M 6.6 - 10 km W of Aianí, Greece        6.6          5    0   \n",
       "999  M 7.1 - 14 km NE of Cabatuan, Philippines        7.1          5    0   \n",
       "\n",
       "     mmi  alert  tsunami  sig  net  nst      dmin    gap  magType    depth  \\\n",
       "0      4      0        0  657    9  114  7.177000   25.0        8  192.955   \n",
       "1      6      3        0  775    9   92  0.679000   40.0        8   69.727   \n",
       "2      5      0        0  899    9   70  1.634000   28.0        8  171.371   \n",
       "3      6      0        1  860    9  173  0.907000   36.0        8   32.571   \n",
       "4      5      2        1  820    1   79  0.879451  172.8        0   21.000   \n",
       "..   ...    ...      ...  ...  ...  ...       ...    ...      ...      ...   \n",
       "995    9      2        0  776    9    0  0.000000    0.0        6   11.000   \n",
       "996    4      2        0  912    9    0  0.000000    0.0        5   20.200   \n",
       "997    6      2        0  732    9    0  0.000000    0.0        5   11.200   \n",
       "998    9      2        0  670    9    0  0.000000    0.0        5   14.000   \n",
       "999    7      2        0  776    9    0  0.000000    0.0        5   16.000   \n",
       "\n",
       "     latitude  longitude  \n",
       "0    -13.8814   167.1580  \n",
       "1     12.8140   -88.1265  \n",
       "2    -38.1911   -70.3731  \n",
       "3     54.3844  -160.6990  \n",
       "4     54.4900  -160.7960  \n",
       "..        ...        ...  \n",
       "995   52.6290   142.8270  \n",
       "996  -23.0080   169.9000  \n",
       "997   -8.3780   125.1270  \n",
       "998   40.1490    21.6950  \n",
       "999   12.6260   125.2970  \n",
       "\n",
       "[1000 rows x 16 columns]"
      ]
     },
     "execution_count": 20,
     "metadata": {},
     "output_type": "execute_result"
    }
   ],
   "source": [
    "le=LabelEncoder()\n",
    "alert_le = LabelEncoder()\n",
    "magtype_le = LabelEncoder()\n",
    "net_le = LabelEncoder()\n",
    "df[\"alert\"]=alert_le.fit_transform(df[\"alert\"])\n",
    "df[\"magType\"]=magtype_le.fit_transform(df[\"magType\"])\n",
    "df[\"net\"]=net_le.fit_transform(df[\"net\"])\n",
    "df"
   ]
  },
  {
   "cell_type": "code",
   "execution_count": 20,
   "id": "61737651",
   "metadata": {},
   "outputs": [
    {
     "data": {
      "text/html": [
       "<div>\n",
       "<style scoped>\n",
       "    .dataframe tbody tr th:only-of-type {\n",
       "        vertical-align: middle;\n",
       "    }\n",
       "\n",
       "    .dataframe tbody tr th {\n",
       "        vertical-align: top;\n",
       "    }\n",
       "\n",
       "    .dataframe thead th {\n",
       "        text-align: right;\n",
       "    }\n",
       "</style>\n",
       "<table border=\"1\" class=\"dataframe\">\n",
       "  <thead>\n",
       "    <tr style=\"text-align: right;\">\n",
       "      <th></th>\n",
       "      <th>magnitude</th>\n",
       "      <th>date_time</th>\n",
       "      <th>cdi</th>\n",
       "      <th>mmi</th>\n",
       "      <th>alert</th>\n",
       "      <th>tsunami</th>\n",
       "      <th>sig</th>\n",
       "      <th>net</th>\n",
       "      <th>nst</th>\n",
       "      <th>dmin</th>\n",
       "      <th>gap</th>\n",
       "      <th>magType</th>\n",
       "      <th>depth</th>\n",
       "      <th>latitude</th>\n",
       "      <th>longitude</th>\n",
       "    </tr>\n",
       "  </thead>\n",
       "  <tbody>\n",
       "    <tr>\n",
       "      <th>magnitude</th>\n",
       "      <td>1.000000</td>\n",
       "      <td>0.037665</td>\n",
       "      <td>0.163170</td>\n",
       "      <td>0.282275</td>\n",
       "      <td>0.128771</td>\n",
       "      <td>-0.001213</td>\n",
       "      <td>0.512358</td>\n",
       "      <td>-0.092200</td>\n",
       "      <td>0.091427</td>\n",
       "      <td>-0.081518</td>\n",
       "      <td>-0.087029</td>\n",
       "      <td>0.039769</td>\n",
       "      <td>0.017083</td>\n",
       "      <td>-0.017505</td>\n",
       "      <td>-0.010710</td>\n",
       "    </tr>\n",
       "    <tr>\n",
       "      <th>date_time</th>\n",
       "      <td>0.037665</td>\n",
       "      <td>1.000000</td>\n",
       "      <td>0.020407</td>\n",
       "      <td>-0.004165</td>\n",
       "      <td>0.038805</td>\n",
       "      <td>-0.017758</td>\n",
       "      <td>0.015574</td>\n",
       "      <td>-0.047896</td>\n",
       "      <td>0.024549</td>\n",
       "      <td>0.004845</td>\n",
       "      <td>0.049645</td>\n",
       "      <td>-0.041982</td>\n",
       "      <td>-0.026884</td>\n",
       "      <td>0.009315</td>\n",
       "      <td>0.007353</td>\n",
       "    </tr>\n",
       "    <tr>\n",
       "      <th>cdi</th>\n",
       "      <td>0.163170</td>\n",
       "      <td>0.020407</td>\n",
       "      <td>1.000000</td>\n",
       "      <td>0.197458</td>\n",
       "      <td>-0.142914</td>\n",
       "      <td>0.292202</td>\n",
       "      <td>0.479911</td>\n",
       "      <td>-0.072677</td>\n",
       "      <td>-0.003857</td>\n",
       "      <td>0.140505</td>\n",
       "      <td>0.277689</td>\n",
       "      <td>0.364859</td>\n",
       "      <td>-0.051331</td>\n",
       "      <td>0.065383</td>\n",
       "      <td>-0.132190</td>\n",
       "    </tr>\n",
       "    <tr>\n",
       "      <th>mmi</th>\n",
       "      <td>0.282275</td>\n",
       "      <td>-0.004165</td>\n",
       "      <td>0.197458</td>\n",
       "      <td>1.000000</td>\n",
       "      <td>0.401446</td>\n",
       "      <td>-0.175441</td>\n",
       "      <td>0.398149</td>\n",
       "      <td>-0.092208</td>\n",
       "      <td>0.110260</td>\n",
       "      <td>-0.307331</td>\n",
       "      <td>-0.068503</td>\n",
       "      <td>-0.088883</td>\n",
       "      <td>-0.517002</td>\n",
       "      <td>0.180799</td>\n",
       "      <td>-0.019398</td>\n",
       "    </tr>\n",
       "    <tr>\n",
       "      <th>alert</th>\n",
       "      <td>0.128771</td>\n",
       "      <td>0.038805</td>\n",
       "      <td>-0.142914</td>\n",
       "      <td>0.401446</td>\n",
       "      <td>1.000000</td>\n",
       "      <td>-0.567999</td>\n",
       "      <td>0.162161</td>\n",
       "      <td>-0.060643</td>\n",
       "      <td>0.401044</td>\n",
       "      <td>-0.505868</td>\n",
       "      <td>-0.125896</td>\n",
       "      <td>-0.424028</td>\n",
       "      <td>-0.245834</td>\n",
       "      <td>0.201746</td>\n",
       "      <td>0.080392</td>\n",
       "    </tr>\n",
       "    <tr>\n",
       "      <th>tsunami</th>\n",
       "      <td>-0.001213</td>\n",
       "      <td>-0.017758</td>\n",
       "      <td>0.292202</td>\n",
       "      <td>-0.175441</td>\n",
       "      <td>-0.567999</td>\n",
       "      <td>1.000000</td>\n",
       "      <td>0.024848</td>\n",
       "      <td>-0.027380</td>\n",
       "      <td>-0.426026</td>\n",
       "      <td>0.443179</td>\n",
       "      <td>0.236259</td>\n",
       "      <td>0.372177</td>\n",
       "      <td>0.070705</td>\n",
       "      <td>-0.127002</td>\n",
       "      <td>-0.131340</td>\n",
       "    </tr>\n",
       "    <tr>\n",
       "      <th>sig</th>\n",
       "      <td>0.512358</td>\n",
       "      <td>0.015574</td>\n",
       "      <td>0.479911</td>\n",
       "      <td>0.398149</td>\n",
       "      <td>0.162161</td>\n",
       "      <td>0.024848</td>\n",
       "      <td>1.000000</td>\n",
       "      <td>-0.189131</td>\n",
       "      <td>0.016636</td>\n",
       "      <td>-0.051440</td>\n",
       "      <td>0.158853</td>\n",
       "      <td>0.067219</td>\n",
       "      <td>-0.079263</td>\n",
       "      <td>0.177575</td>\n",
       "      <td>-0.164200</td>\n",
       "    </tr>\n",
       "    <tr>\n",
       "      <th>net</th>\n",
       "      <td>-0.092200</td>\n",
       "      <td>-0.047896</td>\n",
       "      <td>-0.072677</td>\n",
       "      <td>-0.092208</td>\n",
       "      <td>-0.060643</td>\n",
       "      <td>-0.027380</td>\n",
       "      <td>-0.189131</td>\n",
       "      <td>1.000000</td>\n",
       "      <td>0.105831</td>\n",
       "      <td>0.082110</td>\n",
       "      <td>-0.177788</td>\n",
       "      <td>0.332509</td>\n",
       "      <td>0.050231</td>\n",
       "      <td>-0.262491</td>\n",
       "      <td>0.253618</td>\n",
       "    </tr>\n",
       "    <tr>\n",
       "      <th>nst</th>\n",
       "      <td>0.091427</td>\n",
       "      <td>0.024549</td>\n",
       "      <td>-0.003857</td>\n",
       "      <td>0.110260</td>\n",
       "      <td>0.401044</td>\n",
       "      <td>-0.426026</td>\n",
       "      <td>0.016636</td>\n",
       "      <td>0.105831</td>\n",
       "      <td>1.000000</td>\n",
       "      <td>-0.402445</td>\n",
       "      <td>0.003023</td>\n",
       "      <td>-0.139414</td>\n",
       "      <td>-0.103897</td>\n",
       "      <td>0.109991</td>\n",
       "      <td>0.156543</td>\n",
       "    </tr>\n",
       "    <tr>\n",
       "      <th>dmin</th>\n",
       "      <td>-0.081518</td>\n",
       "      <td>0.004845</td>\n",
       "      <td>0.140505</td>\n",
       "      <td>-0.307331</td>\n",
       "      <td>-0.505868</td>\n",
       "      <td>0.443179</td>\n",
       "      <td>-0.051440</td>\n",
       "      <td>0.082110</td>\n",
       "      <td>-0.402445</td>\n",
       "      <td>1.000000</td>\n",
       "      <td>0.091388</td>\n",
       "      <td>0.350700</td>\n",
       "      <td>0.192698</td>\n",
       "      <td>-0.239791</td>\n",
       "      <td>-0.075595</td>\n",
       "    </tr>\n",
       "    <tr>\n",
       "      <th>gap</th>\n",
       "      <td>-0.087029</td>\n",
       "      <td>0.049645</td>\n",
       "      <td>0.277689</td>\n",
       "      <td>-0.068503</td>\n",
       "      <td>-0.125896</td>\n",
       "      <td>0.236259</td>\n",
       "      <td>0.158853</td>\n",
       "      <td>-0.177788</td>\n",
       "      <td>0.003023</td>\n",
       "      <td>0.091388</td>\n",
       "      <td>1.000000</td>\n",
       "      <td>-0.104183</td>\n",
       "      <td>-0.062215</td>\n",
       "      <td>0.052368</td>\n",
       "      <td>-0.267812</td>\n",
       "    </tr>\n",
       "    <tr>\n",
       "      <th>magType</th>\n",
       "      <td>0.039769</td>\n",
       "      <td>-0.041982</td>\n",
       "      <td>0.364859</td>\n",
       "      <td>-0.088883</td>\n",
       "      <td>-0.424028</td>\n",
       "      <td>0.372177</td>\n",
       "      <td>0.067219</td>\n",
       "      <td>0.332509</td>\n",
       "      <td>-0.139414</td>\n",
       "      <td>0.350700</td>\n",
       "      <td>-0.104183</td>\n",
       "      <td>1.000000</td>\n",
       "      <td>0.129100</td>\n",
       "      <td>-0.205271</td>\n",
       "      <td>0.049709</td>\n",
       "    </tr>\n",
       "    <tr>\n",
       "      <th>depth</th>\n",
       "      <td>0.017083</td>\n",
       "      <td>-0.026884</td>\n",
       "      <td>-0.051331</td>\n",
       "      <td>-0.517002</td>\n",
       "      <td>-0.245834</td>\n",
       "      <td>0.070705</td>\n",
       "      <td>-0.079263</td>\n",
       "      <td>0.050231</td>\n",
       "      <td>-0.103897</td>\n",
       "      <td>0.192698</td>\n",
       "      <td>-0.062215</td>\n",
       "      <td>0.129100</td>\n",
       "      <td>1.000000</td>\n",
       "      <td>-0.101446</td>\n",
       "      <td>-0.030632</td>\n",
       "    </tr>\n",
       "    <tr>\n",
       "      <th>latitude</th>\n",
       "      <td>-0.017505</td>\n",
       "      <td>0.009315</td>\n",
       "      <td>0.065383</td>\n",
       "      <td>0.180799</td>\n",
       "      <td>0.201746</td>\n",
       "      <td>-0.127002</td>\n",
       "      <td>0.177575</td>\n",
       "      <td>-0.262491</td>\n",
       "      <td>0.109991</td>\n",
       "      <td>-0.239791</td>\n",
       "      <td>0.052368</td>\n",
       "      <td>-0.205271</td>\n",
       "      <td>-0.101446</td>\n",
       "      <td>1.000000</td>\n",
       "      <td>0.013604</td>\n",
       "    </tr>\n",
       "    <tr>\n",
       "      <th>longitude</th>\n",
       "      <td>-0.010710</td>\n",
       "      <td>0.007353</td>\n",
       "      <td>-0.132190</td>\n",
       "      <td>-0.019398</td>\n",
       "      <td>0.080392</td>\n",
       "      <td>-0.131340</td>\n",
       "      <td>-0.164200</td>\n",
       "      <td>0.253618</td>\n",
       "      <td>0.156543</td>\n",
       "      <td>-0.075595</td>\n",
       "      <td>-0.267812</td>\n",
       "      <td>0.049709</td>\n",
       "      <td>-0.030632</td>\n",
       "      <td>0.013604</td>\n",
       "      <td>1.000000</td>\n",
       "    </tr>\n",
       "  </tbody>\n",
       "</table>\n",
       "</div>"
      ],
      "text/plain": [
       "           magnitude  date_time       cdi       mmi     alert   tsunami  \\\n",
       "magnitude   1.000000   0.037665  0.163170  0.282275  0.128771 -0.001213   \n",
       "date_time   0.037665   1.000000  0.020407 -0.004165  0.038805 -0.017758   \n",
       "cdi         0.163170   0.020407  1.000000  0.197458 -0.142914  0.292202   \n",
       "mmi         0.282275  -0.004165  0.197458  1.000000  0.401446 -0.175441   \n",
       "alert       0.128771   0.038805 -0.142914  0.401446  1.000000 -0.567999   \n",
       "tsunami    -0.001213  -0.017758  0.292202 -0.175441 -0.567999  1.000000   \n",
       "sig         0.512358   0.015574  0.479911  0.398149  0.162161  0.024848   \n",
       "net        -0.092200  -0.047896 -0.072677 -0.092208 -0.060643 -0.027380   \n",
       "nst         0.091427   0.024549 -0.003857  0.110260  0.401044 -0.426026   \n",
       "dmin       -0.081518   0.004845  0.140505 -0.307331 -0.505868  0.443179   \n",
       "gap        -0.087029   0.049645  0.277689 -0.068503 -0.125896  0.236259   \n",
       "magType     0.039769  -0.041982  0.364859 -0.088883 -0.424028  0.372177   \n",
       "depth       0.017083  -0.026884 -0.051331 -0.517002 -0.245834  0.070705   \n",
       "latitude   -0.017505   0.009315  0.065383  0.180799  0.201746 -0.127002   \n",
       "longitude  -0.010710   0.007353 -0.132190 -0.019398  0.080392 -0.131340   \n",
       "\n",
       "                sig       net       nst      dmin       gap   magType  \\\n",
       "magnitude  0.512358 -0.092200  0.091427 -0.081518 -0.087029  0.039769   \n",
       "date_time  0.015574 -0.047896  0.024549  0.004845  0.049645 -0.041982   \n",
       "cdi        0.479911 -0.072677 -0.003857  0.140505  0.277689  0.364859   \n",
       "mmi        0.398149 -0.092208  0.110260 -0.307331 -0.068503 -0.088883   \n",
       "alert      0.162161 -0.060643  0.401044 -0.505868 -0.125896 -0.424028   \n",
       "tsunami    0.024848 -0.027380 -0.426026  0.443179  0.236259  0.372177   \n",
       "sig        1.000000 -0.189131  0.016636 -0.051440  0.158853  0.067219   \n",
       "net       -0.189131  1.000000  0.105831  0.082110 -0.177788  0.332509   \n",
       "nst        0.016636  0.105831  1.000000 -0.402445  0.003023 -0.139414   \n",
       "dmin      -0.051440  0.082110 -0.402445  1.000000  0.091388  0.350700   \n",
       "gap        0.158853 -0.177788  0.003023  0.091388  1.000000 -0.104183   \n",
       "magType    0.067219  0.332509 -0.139414  0.350700 -0.104183  1.000000   \n",
       "depth     -0.079263  0.050231 -0.103897  0.192698 -0.062215  0.129100   \n",
       "latitude   0.177575 -0.262491  0.109991 -0.239791  0.052368 -0.205271   \n",
       "longitude -0.164200  0.253618  0.156543 -0.075595 -0.267812  0.049709   \n",
       "\n",
       "              depth  latitude  longitude  \n",
       "magnitude  0.017083 -0.017505  -0.010710  \n",
       "date_time -0.026884  0.009315   0.007353  \n",
       "cdi       -0.051331  0.065383  -0.132190  \n",
       "mmi       -0.517002  0.180799  -0.019398  \n",
       "alert     -0.245834  0.201746   0.080392  \n",
       "tsunami    0.070705 -0.127002  -0.131340  \n",
       "sig       -0.079263  0.177575  -0.164200  \n",
       "net        0.050231 -0.262491   0.253618  \n",
       "nst       -0.103897  0.109991   0.156543  \n",
       "dmin       0.192698 -0.239791  -0.075595  \n",
       "gap       -0.062215  0.052368  -0.267812  \n",
       "magType    0.129100 -0.205271   0.049709  \n",
       "depth      1.000000 -0.101446  -0.030632  \n",
       "latitude  -0.101446  1.000000   0.013604  \n",
       "longitude -0.030632  0.013604   1.000000  "
      ]
     },
     "execution_count": 20,
     "metadata": {},
     "output_type": "execute_result"
    }
   ],
   "source": [
    "df.corr()"
   ]
  },
  {
   "cell_type": "markdown",
   "id": "4bd02775",
   "metadata": {},
   "source": [
    "### Correlation heatmap"
   ]
  },
  {
   "cell_type": "code",
   "execution_count": 21,
   "id": "2b889721",
   "metadata": {},
   "outputs": [
    {
     "data": {
      "image/png": "[encoded data removed]",
      "text/plain": [
       "<Figure size 432x288 with 2 Axes>"
      ]
     },
     "metadata": {
      "needs_background": "light"
     },
     "output_type": "display_data"
    }
   ],
   "source": [
    "\n",
    "correlation_matrix = df.corr()\n",
    "sns.heatmap(correlation_matrix, annot=True, cmap='coolwarm', fmt='.2f')\n",
    "plt.title('Correlation Heatmap')\n",
    "plt.show()"
   ]
  },
  {
   "cell_type": "code",
   "execution_count": 22,
   "id": "74cabd6b",
   "metadata": {},
   "outputs": [
    {
     "data": {
      "image/png": "[encoded data removed]",
      "text/plain": [
       "<Figure size 540x180 with 3 Axes>"
      ]
     },
     "metadata": {
      "needs_background": "light"
     },
     "output_type": "display_data"
    }
   ],
   "source": [
    "# Scatter plots to explore the relationship\n",
    "sns.pairplot(df, x_vars=['depth', 'latitude', 'longitude'], y_vars='magnitude', kind='scatter')\n",
    "plt.suptitle('Scatter Plots of Features vs. Magnitude')\n",
    "plt.show()"
   ]
  },
  {
   "cell_type": "code",
   "execution_count": 23,
   "id": "6557d95b",
   "metadata": {},
   "outputs": [
    {
     "name": "stdout",
     "output_type": "stream",
     "text": [
      "Requirement already satisfied: folium in c:\\users\\triptimall\\anaconda3\\lib\\site-packages (0.15.1)\n",
      "Requirement already satisfied: branca>=0.6.0 in c:\\users\\triptimall\\anaconda3\\lib\\site-packages (from folium) (0.7.0)\n",
      "Requirement already satisfied: xyzservices in c:\\users\\triptimall\\anaconda3\\lib\\site-packages (from folium) (2023.10.1)\n",
      "Requirement already satisfied: requests in c:\\users\\triptimall\\anaconda3\\lib\\site-packages (from folium) (2.27.1)\n",
      "Requirement already satisfied: jinja2>=2.9 in c:\\users\\triptimall\\anaconda3\\lib\\site-packages (from folium) (2.11.3)\n",
      "Requirement already satisfied: numpy in c:\\users\\triptimall\\anaconda3\\lib\\site-packages (from folium) (1.22.4)\n",
      "Requirement already satisfied: MarkupSafe>=0.23 in c:\\users\\triptimall\\anaconda3\\lib\\site-packages (from jinja2>=2.9->folium) (2.0.1)\n",
      "Requirement already satisfied: charset-normalizer~=2.0.0 in c:\\users\\triptimall\\anaconda3\\lib\\site-packages (from requests->folium) (2.0.4)\n",
      "Requirement already satisfied: certifi>=2017.4.17 in c:\\users\\triptimall\\anaconda3\\lib\\site-packages (from requests->folium) (2021.10.8)\n",
      "Requirement already satisfied: urllib3<1.27,>=1.21.1 in c:\\users\\triptimall\\anaconda3\\lib\\site-packages (from requests->folium) (1.26.9)\n",
      "Requirement already satisfied: idna<4,>=2.5 in c:\\users\\triptimall\\anaconda3\\lib\\site-packages (from requests->folium) (3.3)\n"
     ]
    }
   ],
   "source": [
    "!pip install folium"
   ]
  },
  {
   "cell_type": "code",
   "execution_count": 21,
   "id": "98041210",
   "metadata": {},
   "outputs": [],
   "source": [
    "import folium"
   ]
  },
  {
   "cell_type": "code",
   "execution_count": 22,
   "id": "9d2de3e2",
   "metadata": {},
   "outputs": [],
   "source": [
    "# Create a map centered at a specific location\n",
    "m = folium.Map(location=[df['latitude'].mean(), df['longitude'].mean()], zoom_start=2)"
   ]
  },
  {
   "cell_type": "code",
   "execution_count": 23,
   "id": "4f72f480",
   "metadata": {},
   "outputs": [],
   "source": [
    "# Add markers for earthquake locations\n",
    "for i, row in df.iterrows():\n",
    "    folium.Marker([row['latitude'], row['longitude']], popup=f\"Magnitude: {row['magnitude']}\").add_to(m)\n",
    "\n",
    "m.save('earthquake_map.html')"
   ]
  },
  {
   "cell_type": "code",
   "execution_count": 26,
   "id": "231508f7",
   "metadata": {},
   "outputs": [
    {
     "name": "stdout",
     "output_type": "stream",
     "text": [
      "Column: magnitude\n",
      "Min magnitude: 6.5\n",
      "Max magnitude: 9.1\n",
      "Mean magnitude: 6.9401500000000125\n"
     ]
    }
   ],
   "source": [
    "print(\"Column: magnitude\")\n",
    "print(f\"Min magnitude: {df['magnitude'].min()}\")\n",
    "print(f\"Max magnitude: {df['magnitude'].max()}\")\n",
    "print(f\"Mean magnitude: {df['magnitude'].mean()}\")"
   ]
  },
  {
   "cell_type": "code",
   "execution_count": 27,
   "id": "59d790f4",
   "metadata": {},
   "outputs": [
    {
     "data": {
      "image/png": "[encoded data removed]",
      "text/plain": [
       "<Figure size 576x432 with 1 Axes>"
      ]
     },
     "metadata": {
      "needs_background": "light"
     },
     "output_type": "display_data"
    }
   ],
   "source": [
    "plt.figure(figsize=(8, 6))\n",
    "sns.histplot(df['magnitude'], kde=True)\n",
    "plt.title('Distribution of Magnitude')\n",
    "plt.xlabel('Magnitude')\n",
    "plt.ylabel('Frequency')\n",
    "plt.show()"
   ]
  },
  {
   "cell_type": "code",
   "execution_count": 28,
   "id": "88c3527e",
   "metadata": {},
   "outputs": [
    {
     "data": {
      "text/plain": [
       "array([[<AxesSubplot:title={'center':'magnitude'}>,\n",
       "        <AxesSubplot:title={'center':'date_time'}>,\n",
       "        <AxesSubplot:title={'center':'cdi'}>,\n",
       "        <AxesSubplot:title={'center':'mmi'}>],\n",
       "       [<AxesSubplot:title={'center':'alert'}>,\n",
       "        <AxesSubplot:title={'center':'tsunami'}>,\n",
       "        <AxesSubplot:title={'center':'sig'}>,\n",
       "        <AxesSubplot:title={'center':'net'}>],\n",
       "       [<AxesSubplot:title={'center':'nst'}>,\n",
       "        <AxesSubplot:title={'center':'dmin'}>,\n",
       "        <AxesSubplot:title={'center':'gap'}>,\n",
       "        <AxesSubplot:title={'center':'magType'}>],\n",
       "       [<AxesSubplot:title={'center':'depth'}>,\n",
       "        <AxesSubplot:title={'center':'latitude'}>,\n",
       "        <AxesSubplot:title={'center':'longitude'}>, <AxesSubplot:>]],\n",
       "      dtype=object)"
      ]
     },
     "execution_count": 28,
     "metadata": {},
     "output_type": "execute_result"
    },
    {
     "data": {
      "image/png": "[encoded data removed]",
      "text/plain": [
       "<Figure size 432x288 with 16 Axes>"
      ]
     },
     "metadata": {
      "needs_background": "light"
     },
     "output_type": "display_data"
    }
   ],
   "source": [
    "df.hist()"
   ]
  },
  {
   "cell_type": "code",
   "execution_count": 29,
   "id": "9bb89c18",
   "metadata": {},
   "outputs": [],
   "source": [
    "x=df.iloc[:,[1,2,3,4,6,7,8,9,10,11,12,13,14]]\n",
    "y=df.iloc[:,[5]]"
   ]
  },
  {
   "cell_type": "code",
   "execution_count": 30,
   "id": "5843b9b8",
   "metadata": {},
   "outputs": [
    {
     "data": {
      "text/plain": [
       "0    675\n",
       "1    325\n",
       "Name: tsunami, dtype: int64"
      ]
     },
     "execution_count": 30,
     "metadata": {},
     "output_type": "execute_result"
    }
   ],
   "source": [
    "df[\"tsunami\"].value_counts()"
   ]
  },
  {
   "cell_type": "code",
   "execution_count": 32,
   "id": "7c7b97a7",
   "metadata": {},
   "outputs": [],
   "source": [
    "#!pip install imbalanced-learn --user"
   ]
  },
  {
   "cell_type": "code",
   "execution_count": 33,
   "id": "002790c9",
   "metadata": {},
   "outputs": [],
   "source": [
    "from imblearn.over_sampling import SMOTE\n",
    "s=SMOTE()\n",
    "x_data,y_data=s.fit_resample(x,y)"
   ]
  },
  {
   "cell_type": "code",
   "execution_count": 34,
   "id": "6daccf22",
   "metadata": {},
   "outputs": [],
   "source": [
    "from sklearn.preprocessing import StandardScaler\n",
    "ss=StandardScaler()\n",
    "x_scaled=ss.fit_transform(x_data)"
   ]
  },
  {
   "cell_type": "code",
   "execution_count": 35,
   "id": "9dbd8000",
   "metadata": {},
   "outputs": [
    {
     "data": {
      "text/plain": [
       "array([[-1.14291124,  0.4958092 ,  0.45721495, ...,  0.45831967,\n",
       "         1.20805329, -0.91948351],\n",
       "       [-1.14291124,  0.16951236,  0.77216974, ...,  0.45831967,\n",
       "         0.08213232,  0.15767475],\n",
       "       [-0.90568458,  0.16951236,  0.45721495, ...,  0.45831967,\n",
       "         1.0108426 , -1.90037887],\n",
       "       ...,\n",
       "       [ 0.47880899,  0.4958092 ,  0.45721495, ...,  0.45831967,\n",
       "        -0.21976882,  0.26538071],\n",
       "       [-1.04211861, -0.15678447,  0.14226016, ...,  0.45831967,\n",
       "        -0.42453644,  0.53667689],\n",
       "       [ 1.26929757, -1.13567498,  0.45721495, ...,  0.45831967,\n",
       "         0.60528571, -0.72762365]])"
      ]
     },
     "execution_count": 35,
     "metadata": {},
     "output_type": "execute_result"
    }
   ],
   "source": [
    "x_scaled"
   ]
  },
  {
   "cell_type": "code",
   "execution_count": 36,
   "id": "5216b3d4",
   "metadata": {},
   "outputs": [],
   "source": [
    "from sklearn.model_selection import train_test_split\n",
    "x_train,x_test,y_train,y_test=train_test_split(x_scaled,y_data,random_state=11,test_size=0.2)"
   ]
  },
  {
   "cell_type": "code",
   "execution_count": 37,
   "id": "dfb00102",
   "metadata": {},
   "outputs": [
    {
     "name": "stderr",
     "output_type": "stream",
     "text": [
      "C:\\Users\\TriptiMall\\anaconda3\\lib\\site-packages\\sklearn\\utils\\validation.py:993: DataConversionWarning: A column-vector y was passed when a 1d array was expected. Please change the shape of y to (n_samples, ), for example using ravel().\n",
      "  y = column_or_1d(y, warn=True)\n"
     ]
    },
    {
     "data": {
      "text/plain": [
       "LogisticRegression()"
      ]
     },
     "execution_count": 37,
     "metadata": {},
     "output_type": "execute_result"
    }
   ],
   "source": [
    "from sklearn.linear_model import LogisticRegression \n",
    "l1=LogisticRegression()\n",
    "l1.fit(x_train,y_train)"
   ]
  },
  {
   "cell_type": "code",
   "execution_count": 38,
   "id": "97dec874",
   "metadata": {},
   "outputs": [
    {
     "data": {
      "text/plain": [
       "array([2, 2, 3, 2, 2, 1, 0, 2, 2, 0, 2, 3, 0, 1, 2, 2, 1, 2, 2, 1, 0, 3,\n",
       "       1, 1, 2, 2, 2, 2, 1, 3, 3, 1, 3, 1, 3, 1, 2, 1, 0, 2, 3, 2, 2, 2,\n",
       "       0, 0, 2, 0, 1, 1, 3, 2, 1, 0, 2, 3, 3, 3, 0, 0, 2, 2, 0, 2, 3, 2,\n",
       "       3, 1, 1, 3, 0, 1, 0, 0, 1, 3, 2, 2, 0, 0, 2, 0, 1, 1, 1, 1, 2, 1,\n",
       "       0, 1, 3, 1, 0, 2, 0, 1, 2, 2, 2, 3, 1, 3, 3, 3, 0, 1, 1, 0, 1, 1,\n",
       "       0, 0, 3, 0, 1, 2, 3, 3, 3, 0, 0, 1, 3, 1, 0, 3, 1, 2, 3, 3, 2, 0,\n",
       "       0, 2, 2, 2, 1, 2, 2, 3, 0, 3, 0, 1, 1, 1, 0, 1, 2, 2, 0, 1, 3, 3,\n",
       "       1, 2, 3, 1, 3, 0, 3, 0, 3, 1, 3, 2, 2, 3, 0, 2, 0, 2, 2, 3, 1, 2,\n",
       "       2, 2, 0, 0, 0, 3, 3, 2, 2, 1, 0, 0, 1, 0, 1, 3, 0, 0, 1, 3, 1, 3,\n",
       "       0, 2, 1, 1, 1, 1, 3, 3, 0, 1, 2, 1, 1, 3, 1, 1, 3, 0, 1, 2, 1, 1,\n",
       "       3, 2, 1, 2, 0, 0, 2, 1, 3, 3, 0, 3, 0, 1, 3, 0, 1, 2, 0, 3, 0, 0,\n",
       "       1, 3, 3, 0, 3, 1, 3, 0, 3, 1, 3, 2, 3, 0, 1, 3, 3, 3, 2, 2, 2, 2,\n",
       "       0, 2, 0, 0, 2, 2, 3, 0, 1, 3, 3, 3, 1, 2, 1, 1, 2, 3, 1, 3, 1, 2,\n",
       "       1, 0, 3, 3, 3, 3, 0, 3, 0, 3, 2, 3, 3, 1, 1, 1, 0, 3, 3, 1, 3, 1,\n",
       "       0, 1, 1, 1, 2, 3, 1, 1, 3, 1, 0, 3, 0, 2, 3, 2, 3, 1, 3, 2, 0, 2,\n",
       "       3, 2, 2, 0, 2, 0, 3, 2, 0, 3, 0, 2, 1, 1, 2, 2, 1, 1, 0, 3, 0, 0,\n",
       "       0, 0, 3, 1, 1, 3, 3, 2, 0, 3, 3, 3, 3, 2, 3, 1, 1, 1, 3, 1, 1, 0,\n",
       "       1, 2, 1, 2, 3, 3, 3, 0, 1, 3, 0, 2, 0, 3, 1, 0, 0, 0, 3, 0, 3, 3,\n",
       "       1, 2, 1, 0, 0, 3, 0, 3, 0, 2, 1, 2, 0, 3, 0, 0, 2, 3, 3, 0, 3, 3,\n",
       "       2, 2, 2, 3, 1, 2, 1, 1, 2, 1, 2, 3, 0, 2, 1, 3, 0, 1, 1, 3, 3, 2,\n",
       "       1, 2, 1, 1, 2, 2, 3, 3, 0, 0, 0, 1])"
      ]
     },
     "execution_count": 38,
     "metadata": {},
     "output_type": "execute_result"
    }
   ],
   "source": [
    "y_pred=l1.predict(x_test)\n",
    "y_pred"
   ]
  },
  {
   "cell_type": "code",
   "execution_count": 39,
   "id": "499402bc",
   "metadata": {},
   "outputs": [
    {
     "data": {
      "text/plain": [
       "82.96460176991151"
      ]
     },
     "execution_count": 39,
     "metadata": {},
     "output_type": "execute_result"
    }
   ],
   "source": [
    "from sklearn.metrics import accuracy_score\n",
    "ac=accuracy_score(y_test,y_pred)*100\n",
    "ac"
   ]
  },
  {
   "cell_type": "code",
   "execution_count": 40,
   "id": "f435fb11",
   "metadata": {},
   "outputs": [
    {
     "name": "stderr",
     "output_type": "stream",
     "text": [
      "C:\\Users\\TriptiMall\\anaconda3\\lib\\site-packages\\sklearn\\utils\\validation.py:993: DataConversionWarning: A column-vector y was passed when a 1d array was expected. Please change the shape of y to (n_samples, ), for example using ravel().\n",
      "  y = column_or_1d(y, warn=True)\n"
     ]
    },
    {
     "data": {
      "text/plain": [
       "SVC(kernel='linear', random_state=2)"
      ]
     },
     "execution_count": 40,
     "metadata": {},
     "output_type": "execute_result"
    }
   ],
   "source": [
    "from sklearn.svm import SVC \n",
    "SVM=SVC(kernel=\"linear\",random_state=2)\n",
    "SVM.fit(x_train,y_train)"
   ]
  },
  {
   "cell_type": "code",
   "execution_count": 41,
   "id": "68c84283",
   "metadata": {},
   "outputs": [
    {
     "data": {
      "text/plain": [
       "array([2, 2, 3, 2, 2, 1, 0, 2, 2, 0, 2, 3, 0, 1, 2, 2, 1, 2, 2, 1, 0, 3,\n",
       "       1, 1, 2, 2, 2, 2, 1, 3, 3, 1, 3, 1, 3, 1, 2, 1, 0, 2, 3, 2, 2, 2,\n",
       "       0, 0, 2, 0, 1, 1, 3, 2, 1, 0, 2, 2, 3, 3, 0, 0, 2, 2, 0, 2, 3, 2,\n",
       "       3, 1, 1, 3, 0, 3, 0, 0, 1, 3, 2, 2, 3, 0, 2, 0, 1, 1, 1, 1, 2, 1,\n",
       "       3, 1, 3, 1, 0, 2, 0, 1, 2, 2, 2, 3, 1, 3, 3, 3, 0, 1, 1, 0, 1, 1,\n",
       "       0, 0, 3, 0, 1, 2, 3, 3, 3, 0, 3, 1, 3, 1, 0, 3, 1, 2, 3, 3, 2, 3,\n",
       "       0, 2, 2, 2, 1, 2, 2, 3, 0, 3, 0, 1, 1, 1, 0, 1, 2, 2, 0, 1, 3, 3,\n",
       "       1, 2, 3, 1, 3, 0, 3, 3, 3, 1, 3, 2, 2, 3, 0, 2, 0, 2, 2, 3, 1, 2,\n",
       "       2, 2, 0, 0, 0, 3, 3, 2, 2, 1, 0, 0, 1, 0, 1, 3, 0, 0, 1, 3, 1, 0,\n",
       "       0, 2, 1, 1, 1, 1, 3, 1, 0, 1, 2, 1, 1, 3, 1, 1, 0, 0, 1, 2, 1, 1,\n",
       "       3, 2, 1, 2, 0, 0, 2, 1, 3, 3, 0, 3, 0, 1, 3, 0, 1, 2, 0, 3, 0, 3,\n",
       "       1, 3, 3, 0, 3, 1, 3, 0, 3, 1, 3, 2, 3, 0, 1, 3, 3, 3, 2, 2, 2, 2,\n",
       "       0, 2, 0, 0, 2, 2, 3, 0, 1, 3, 3, 3, 1, 2, 1, 1, 2, 3, 1, 3, 1, 2,\n",
       "       1, 0, 3, 3, 3, 3, 0, 3, 0, 3, 2, 3, 3, 1, 1, 1, 0, 3, 3, 1, 3, 1,\n",
       "       3, 1, 3, 1, 2, 3, 1, 1, 3, 1, 0, 3, 0, 2, 3, 2, 3, 1, 3, 2, 0, 2,\n",
       "       3, 2, 2, 3, 2, 0, 3, 2, 0, 3, 0, 2, 1, 1, 2, 2, 1, 1, 0, 3, 0, 0,\n",
       "       0, 0, 3, 1, 1, 3, 3, 2, 0, 0, 3, 3, 3, 2, 3, 1, 1, 1, 1, 1, 1, 0,\n",
       "       1, 2, 1, 2, 0, 3, 3, 0, 1, 3, 0, 2, 0, 3, 1, 0, 0, 0, 3, 0, 3, 3,\n",
       "       1, 2, 1, 0, 0, 3, 0, 3, 0, 2, 1, 2, 0, 3, 0, 0, 2, 3, 3, 0, 3, 0,\n",
       "       2, 2, 2, 3, 1, 2, 1, 1, 2, 1, 2, 1, 0, 2, 1, 3, 0, 1, 1, 3, 3, 2,\n",
       "       1, 2, 1, 1, 2, 2, 3, 3, 0, 0, 0, 1])"
      ]
     },
     "execution_count": 41,
     "metadata": {},
     "output_type": "execute_result"
    }
   ],
   "source": [
    "y_pred1=SVM.predict(x_test)\n",
    "y_pred1\n"
   ]
  },
  {
   "cell_type": "code",
   "execution_count": 42,
   "id": "4b770c41",
   "metadata": {},
   "outputs": [
    {
     "data": {
      "text/plain": [
       "84.95575221238938"
      ]
     },
     "execution_count": 42,
     "metadata": {},
     "output_type": "execute_result"
    }
   ],
   "source": [
    "ac1=accuracy_score(y_test,y_pred1)*100\n",
    "ac1"
   ]
  },
  {
   "cell_type": "code",
   "execution_count": 43,
   "id": "e0ef3e19",
   "metadata": {},
   "outputs": [
    {
     "name": "stderr",
     "output_type": "stream",
     "text": [
      "C:\\Users\\TriptiMall\\anaconda3\\lib\\site-packages\\sklearn\\utils\\validation.py:993: DataConversionWarning: A column-vector y was passed when a 1d array was expected. Please change the shape of y to (n_samples, ), for example using ravel().\n",
      "  y = column_or_1d(y, warn=True)\n"
     ]
    },
    {
     "data": {
      "text/plain": [
       "GaussianNB()"
      ]
     },
     "execution_count": 43,
     "metadata": {},
     "output_type": "execute_result"
    }
   ],
   "source": [
    "from sklearn.naive_bayes import GaussianNB\n",
    "nb=GaussianNB()\n",
    "nb.fit(x_train,y_train)"
   ]
  },
  {
   "cell_type": "code",
   "execution_count": 44,
   "id": "58d054c0",
   "metadata": {},
   "outputs": [
    {
     "data": {
      "text/plain": [
       "array([2, 2, 3, 2, 2, 1, 0, 2, 2, 0, 2, 3, 0, 1, 2, 2, 1, 2, 2, 1, 0, 2,\n",
       "       1, 1, 2, 2, 2, 2, 1, 1, 3, 1, 3, 1, 3, 3, 2, 1, 0, 2, 1, 2, 2, 2,\n",
       "       0, 0, 2, 0, 1, 1, 1, 2, 1, 0, 2, 2, 3, 3, 0, 0, 2, 2, 0, 2, 3, 2,\n",
       "       3, 1, 1, 0, 0, 1, 3, 0, 1, 3, 2, 2, 0, 0, 2, 0, 3, 1, 1, 1, 2, 1,\n",
       "       0, 1, 1, 3, 0, 2, 0, 1, 2, 2, 2, 1, 1, 3, 0, 1, 0, 1, 3, 3, 1, 1,\n",
       "       0, 0, 1, 0, 1, 2, 3, 0, 3, 0, 0, 1, 3, 1, 0, 3, 1, 2, 0, 3, 2, 3,\n",
       "       0, 2, 2, 2, 1, 2, 2, 1, 0, 1, 0, 1, 1, 1, 0, 1, 2, 2, 0, 3, 0, 1,\n",
       "       1, 2, 3, 1, 3, 0, 3, 3, 1, 1, 1, 2, 2, 3, 0, 2, 0, 2, 2, 3, 1, 2,\n",
       "       2, 2, 0, 0, 0, 3, 1, 2, 2, 1, 0, 0, 1, 0, 1, 3, 0, 0, 1, 1, 1, 3,\n",
       "       0, 2, 1, 1, 1, 1, 3, 1, 0, 1, 2, 1, 1, 3, 1, 1, 2, 0, 1, 2, 1, 1,\n",
       "       1, 2, 1, 2, 0, 0, 2, 1, 1, 3, 3, 0, 0, 1, 3, 0, 1, 2, 0, 3, 3, 3,\n",
       "       1, 1, 0, 3, 3, 1, 3, 0, 3, 1, 1, 2, 3, 0, 1, 0, 1, 3, 2, 2, 2, 2,\n",
       "       0, 2, 0, 0, 2, 2, 0, 0, 2, 1, 3, 3, 3, 2, 1, 1, 2, 1, 1, 3, 1, 0,\n",
       "       1, 0, 3, 3, 0, 3, 0, 3, 0, 3, 2, 3, 1, 1, 1, 1, 0, 3, 1, 1, 1, 1,\n",
       "       0, 1, 1, 1, 2, 0, 1, 1, 1, 1, 0, 3, 0, 2, 1, 2, 3, 1, 3, 2, 0, 2,\n",
       "       3, 2, 2, 3, 2, 0, 1, 2, 0, 3, 0, 2, 1, 1, 2, 2, 1, 3, 0, 1, 0, 0,\n",
       "       0, 0, 1, 1, 1, 3, 3, 2, 0, 3, 3, 0, 3, 2, 3, 1, 1, 1, 1, 1, 1, 0,\n",
       "       1, 2, 1, 2, 3, 3, 3, 0, 1, 3, 0, 2, 0, 3, 1, 0, 0, 0, 1, 0, 3, 3,\n",
       "       1, 2, 1, 0, 0, 1, 3, 1, 0, 2, 1, 2, 0, 3, 0, 3, 2, 3, 3, 0, 1, 3,\n",
       "       2, 2, 2, 2, 1, 2, 3, 1, 2, 1, 2, 1, 3, 2, 1, 3, 0, 1, 1, 3, 3, 2,\n",
       "       1, 2, 1, 1, 2, 2, 1, 2, 0, 0, 0, 1])"
      ]
     },
     "execution_count": 44,
     "metadata": {},
     "output_type": "execute_result"
    }
   ],
   "source": [
    "y_pred2=nb.predict(x_test)\n",
    "y_pred2"
   ]
  },
  {
   "cell_type": "code",
   "execution_count": 45,
   "id": "1c355339",
   "metadata": {},
   "outputs": [
    {
     "data": {
      "text/plain": [
       "76.99115044247787"
      ]
     },
     "execution_count": 45,
     "metadata": {},
     "output_type": "execute_result"
    }
   ],
   "source": [
    "ac2=accuracy_score(y_test,y_pred2)*100\n",
    "ac2"
   ]
  },
  {
   "cell_type": "code",
   "execution_count": 46,
   "id": "652cdca1",
   "metadata": {},
   "outputs": [
    {
     "data": {
      "text/plain": [
       "DecisionTreeClassifier()"
      ]
     },
     "execution_count": 46,
     "metadata": {},
     "output_type": "execute_result"
    }
   ],
   "source": [
    "from sklearn.tree import DecisionTreeClassifier\n",
    "\n",
    "dt = DecisionTreeClassifier()\n",
    "dt.fit(x_train, y_train) "
   ]
  },
  {
   "cell_type": "code",
   "execution_count": 47,
   "id": "fdbb8fa8",
   "metadata": {},
   "outputs": [
    {
     "data": {
      "text/plain": [
       "array([2, 2, 3, 2, 3, 1, 0, 2, 2, 0, 2, 3, 0, 1, 2, 2, 1, 2, 2, 1, 0, 3,\n",
       "       1, 1, 2, 2, 2, 2, 1, 3, 3, 1, 1, 1, 3, 3, 2, 3, 0, 2, 1, 2, 2, 2,\n",
       "       0, 0, 3, 0, 1, 1, 3, 2, 1, 0, 2, 2, 3, 1, 0, 0, 2, 0, 3, 2, 3, 2,\n",
       "       3, 1, 1, 3, 0, 0, 0, 0, 1, 0, 2, 2, 0, 0, 2, 0, 1, 1, 1, 1, 2, 1,\n",
       "       0, 1, 1, 1, 0, 2, 0, 1, 2, 2, 2, 3, 1, 3, 3, 3, 3, 1, 1, 0, 1, 1,\n",
       "       0, 3, 1, 0, 1, 2, 0, 3, 3, 3, 3, 1, 3, 1, 0, 3, 3, 2, 3, 1, 2, 3,\n",
       "       3, 2, 2, 2, 1, 0, 2, 3, 0, 3, 0, 1, 1, 1, 0, 1, 2, 2, 0, 1, 3, 3,\n",
       "       3, 2, 3, 3, 3, 0, 3, 3, 1, 1, 3, 2, 3, 3, 0, 2, 0, 2, 2, 3, 1, 2,\n",
       "       2, 2, 0, 0, 0, 3, 1, 2, 2, 1, 0, 0, 1, 0, 1, 1, 0, 0, 1, 1, 1, 0,\n",
       "       0, 2, 1, 1, 1, 1, 3, 3, 0, 2, 2, 1, 1, 3, 1, 1, 2, 0, 1, 2, 1, 0,\n",
       "       3, 2, 1, 2, 0, 0, 2, 2, 3, 3, 3, 3, 0, 1, 3, 0, 1, 2, 0, 3, 3, 3,\n",
       "       1, 3, 3, 3, 3, 1, 3, 3, 3, 1, 3, 2, 3, 0, 1, 3, 0, 3, 2, 2, 2, 2,\n",
       "       0, 2, 0, 0, 2, 2, 3, 3, 1, 3, 3, 1, 1, 2, 1, 1, 2, 1, 1, 0, 1, 0,\n",
       "       1, 0, 0, 3, 0, 3, 0, 0, 0, 3, 2, 3, 3, 1, 1, 1, 0, 3, 3, 1, 3, 1,\n",
       "       0, 1, 3, 1, 2, 3, 1, 1, 0, 1, 0, 3, 0, 2, 3, 2, 3, 1, 3, 2, 0, 2,\n",
       "       3, 2, 2, 3, 2, 0, 1, 2, 0, 1, 0, 2, 1, 1, 2, 2, 2, 1, 0, 3, 0, 0,\n",
       "       0, 0, 3, 3, 1, 3, 3, 2, 0, 3, 0, 3, 3, 2, 0, 1, 1, 1, 1, 1, 1, 0,\n",
       "       1, 2, 1, 3, 3, 1, 3, 0, 1, 3, 0, 2, 0, 3, 1, 0, 0, 0, 3, 0, 3, 3,\n",
       "       1, 2, 0, 0, 3, 3, 0, 3, 0, 2, 1, 2, 0, 3, 0, 0, 2, 3, 3, 0, 3, 3,\n",
       "       2, 2, 2, 3, 1, 2, 1, 1, 0, 1, 2, 1, 0, 2, 1, 3, 0, 1, 1, 3, 3, 2,\n",
       "       1, 2, 1, 1, 2, 2, 1, 2, 0, 0, 0, 1])"
      ]
     },
     "execution_count": 47,
     "metadata": {},
     "output_type": "execute_result"
    }
   ],
   "source": [
    "y_pred3=dt.predict(x_test)\n",
    "y_pred3"
   ]
  },
  {
   "cell_type": "code",
   "execution_count": 48,
   "id": "1a434495",
   "metadata": {},
   "outputs": [
    {
     "data": {
      "text/plain": [
       "92.92035398230088"
      ]
     },
     "execution_count": 48,
     "metadata": {},
     "output_type": "execute_result"
    }
   ],
   "source": [
    "ac3 = accuracy_score(y_test, y_pred3)*100\n",
    "ac3"
   ]
  },
  {
   "cell_type": "code",
   "execution_count": 49,
   "id": "d0fff08b",
   "metadata": {},
   "outputs": [
    {
     "name": "stderr",
     "output_type": "stream",
     "text": [
      "C:\\Users\\TriptiMall\\anaconda3\\lib\\site-packages\\sklearn\\preprocessing\\_label.py:98: DataConversionWarning: A column-vector y was passed when a 1d array was expected. Please change the shape of y to (n_samples, ), for example using ravel().\n",
      "  y = column_or_1d(y, warn=True)\n",
      "C:\\Users\\TriptiMall\\anaconda3\\lib\\site-packages\\sklearn\\preprocessing\\_label.py:133: DataConversionWarning: A column-vector y was passed when a 1d array was expected. Please change the shape of y to (n_samples, ), for example using ravel().\n",
      "  y = column_or_1d(y, warn=True)\n"
     ]
    },
    {
     "data": {
      "text/plain": [
       "VotingClassifier(estimators=[('logisticRegression', LogisticRegression()),\n",
       "                             ('svm', SVC(kernel='linear', random_state=2)),\n",
       "                             ('naivebayes', GaussianNB()),\n",
       "                             ('Decision Tree Classification',\n",
       "                              DecisionTreeClassifier())])"
      ]
     },
     "execution_count": 49,
     "metadata": {},
     "output_type": "execute_result"
    }
   ],
   "source": [
    "from sklearn.ensemble import VotingClassifier\n",
    "bc=VotingClassifier(estimators=[(\"logisticRegression\",l1),(\"svm\",SVM),(\"naivebayes\",nb),(\"Decision Tree Classification\", dt)])\n",
    "bc.fit(x_train,y_train)"
   ]
  },
  {
   "cell_type": "code",
   "execution_count": 50,
   "id": "939ee3d3",
   "metadata": {},
   "outputs": [
    {
     "data": {
      "text/plain": [
       "array([2, 2, 3, 2, 2, 1, 0, 2, 2, 0, 2, 3, 0, 1, 2, 2, 1, 2, 2, 1, 0, 3,\n",
       "       1, 1, 2, 2, 2, 2, 1, 3, 3, 1, 3, 1, 3, 1, 2, 1, 0, 2, 1, 2, 2, 2,\n",
       "       0, 0, 2, 0, 1, 1, 3, 2, 1, 0, 2, 2, 3, 3, 0, 0, 2, 2, 0, 2, 3, 2,\n",
       "       3, 1, 1, 3, 0, 1, 0, 0, 1, 3, 2, 2, 0, 0, 2, 0, 1, 1, 1, 1, 2, 1,\n",
       "       0, 1, 1, 1, 0, 2, 0, 1, 2, 2, 2, 3, 1, 3, 3, 3, 0, 1, 1, 0, 1, 1,\n",
       "       0, 0, 1, 0, 1, 2, 3, 3, 3, 0, 0, 1, 3, 1, 0, 3, 1, 2, 3, 3, 2, 3,\n",
       "       0, 2, 2, 2, 1, 2, 2, 3, 0, 3, 0, 1, 1, 1, 0, 1, 2, 2, 0, 1, 3, 3,\n",
       "       1, 2, 3, 1, 3, 0, 3, 3, 1, 1, 3, 2, 2, 3, 0, 2, 0, 2, 2, 3, 1, 2,\n",
       "       2, 2, 0, 0, 0, 3, 1, 2, 2, 1, 0, 0, 1, 0, 1, 3, 0, 0, 1, 1, 1, 0,\n",
       "       0, 2, 1, 1, 1, 1, 3, 1, 0, 1, 2, 1, 1, 3, 1, 1, 2, 0, 1, 2, 1, 1,\n",
       "       3, 2, 1, 2, 0, 0, 2, 1, 3, 3, 0, 3, 0, 1, 3, 0, 1, 2, 0, 3, 0, 3,\n",
       "       1, 3, 3, 0, 3, 1, 3, 0, 3, 1, 3, 2, 3, 0, 1, 3, 3, 3, 2, 2, 2, 2,\n",
       "       0, 2, 0, 0, 2, 2, 3, 0, 1, 3, 3, 3, 1, 2, 1, 1, 2, 1, 1, 3, 1, 0,\n",
       "       1, 0, 3, 3, 0, 3, 0, 3, 0, 3, 2, 3, 3, 1, 1, 1, 0, 3, 3, 1, 3, 1,\n",
       "       0, 1, 1, 1, 2, 3, 1, 1, 3, 1, 0, 3, 0, 2, 3, 2, 3, 1, 3, 2, 0, 2,\n",
       "       3, 2, 2, 3, 2, 0, 1, 2, 0, 3, 0, 2, 1, 1, 2, 2, 1, 1, 0, 3, 0, 0,\n",
       "       0, 0, 3, 1, 1, 3, 3, 2, 0, 3, 3, 3, 3, 2, 3, 1, 1, 1, 1, 1, 1, 0,\n",
       "       1, 2, 1, 2, 3, 3, 3, 0, 1, 3, 0, 2, 0, 3, 1, 0, 0, 0, 3, 0, 3, 3,\n",
       "       1, 2, 1, 0, 0, 3, 0, 3, 0, 2, 1, 2, 0, 3, 0, 0, 2, 3, 3, 0, 3, 3,\n",
       "       2, 2, 2, 3, 1, 2, 1, 1, 2, 1, 2, 1, 0, 2, 1, 3, 0, 1, 1, 3, 3, 2,\n",
       "       1, 2, 1, 1, 2, 2, 1, 2, 0, 0, 0, 1])"
      ]
     },
     "execution_count": 50,
     "metadata": {},
     "output_type": "execute_result"
    }
   ],
   "source": [
    "y_pred4=bc.predict(x_test)\n",
    "y_pred4"
   ]
  },
  {
   "cell_type": "code",
   "execution_count": 51,
   "id": "8f1beba1",
   "metadata": {},
   "outputs": [
    {
     "data": {
      "text/plain": [
       "86.50442477876106"
      ]
     },
     "execution_count": 51,
     "metadata": {},
     "output_type": "execute_result"
    }
   ],
   "source": [
    "from sklearn.metrics import accuracy_score\n",
    "ac4=accuracy_score(y_test,y_pred4)*100\n",
    "ac4"
   ]
  },
  {
   "cell_type": "code",
   "execution_count": 52,
   "id": "5054d62c",
   "metadata": {},
   "outputs": [
    {
     "data": {
      "text/plain": [
       "KFold(n_splits=5, random_state=None, shuffle=False)"
      ]
     },
     "execution_count": 52,
     "metadata": {},
     "output_type": "execute_result"
    }
   ],
   "source": [
    "from sklearn.model_selection import KFold\n",
    "kf=KFold()\n",
    "kf.split(x_train,y_train)\n",
    "kf"
   ]
  },
  {
   "cell_type": "code",
   "execution_count": 53,
   "id": "9a418fa0",
   "metadata": {},
   "outputs": [
    {
     "data": {
      "text/plain": [
       "KFold(n_splits=7, random_state=None, shuffle=True)"
      ]
     },
     "execution_count": 53,
     "metadata": {},
     "output_type": "execute_result"
    }
   ],
   "source": [
    "k= 7\n",
    "kf = KFold(n_splits=k, shuffle=True)\n",
    "kf"
   ]
  },
  {
   "cell_type": "code",
   "execution_count": 54,
   "id": "c2597964",
   "metadata": {},
   "outputs": [
    {
     "name": "stderr",
     "output_type": "stream",
     "text": [
      "C:\\Users\\TriptiMall\\anaconda3\\lib\\site-packages\\sklearn\\preprocessing\\_label.py:98: DataConversionWarning: A column-vector y was passed when a 1d array was expected. Please change the shape of y to (n_samples, ), for example using ravel().\n",
      "  y = column_or_1d(y, warn=True)\n",
      "C:\\Users\\TriptiMall\\anaconda3\\lib\\site-packages\\sklearn\\preprocessing\\_label.py:133: DataConversionWarning: A column-vector y was passed when a 1d array was expected. Please change the shape of y to (n_samples, ), for example using ravel().\n",
      "  y = column_or_1d(y, warn=True)\n",
      "C:\\Users\\TriptiMall\\anaconda3\\lib\\site-packages\\sklearn\\preprocessing\\_label.py:98: DataConversionWarning: A column-vector y was passed when a 1d array was expected. Please change the shape of y to (n_samples, ), for example using ravel().\n",
      "  y = column_or_1d(y, warn=True)\n",
      "C:\\Users\\TriptiMall\\anaconda3\\lib\\site-packages\\sklearn\\preprocessing\\_label.py:133: DataConversionWarning: A column-vector y was passed when a 1d array was expected. Please change the shape of y to (n_samples, ), for example using ravel().\n",
      "  y = column_or_1d(y, warn=True)\n",
      "C:\\Users\\TriptiMall\\anaconda3\\lib\\site-packages\\sklearn\\preprocessing\\_label.py:98: DataConversionWarning: A column-vector y was passed when a 1d array was expected. Please change the shape of y to (n_samples, ), for example using ravel().\n",
      "  y = column_or_1d(y, warn=True)\n",
      "C:\\Users\\TriptiMall\\anaconda3\\lib\\site-packages\\sklearn\\preprocessing\\_label.py:133: DataConversionWarning: A column-vector y was passed when a 1d array was expected. Please change the shape of y to (n_samples, ), for example using ravel().\n",
      "  y = column_or_1d(y, warn=True)\n",
      "C:\\Users\\TriptiMall\\anaconda3\\lib\\site-packages\\sklearn\\preprocessing\\_label.py:98: DataConversionWarning: A column-vector y was passed when a 1d array was expected. Please change the shape of y to (n_samples, ), for example using ravel().\n",
      "  y = column_or_1d(y, warn=True)\n",
      "C:\\Users\\TriptiMall\\anaconda3\\lib\\site-packages\\sklearn\\preprocessing\\_label.py:133: DataConversionWarning: A column-vector y was passed when a 1d array was expected. Please change the shape of y to (n_samples, ), for example using ravel().\n",
      "  y = column_or_1d(y, warn=True)\n",
      "C:\\Users\\TriptiMall\\anaconda3\\lib\\site-packages\\sklearn\\preprocessing\\_label.py:98: DataConversionWarning: A column-vector y was passed when a 1d array was expected. Please change the shape of y to (n_samples, ), for example using ravel().\n",
      "  y = column_or_1d(y, warn=True)\n",
      "C:\\Users\\TriptiMall\\anaconda3\\lib\\site-packages\\sklearn\\preprocessing\\_label.py:133: DataConversionWarning: A column-vector y was passed when a 1d array was expected. Please change the shape of y to (n_samples, ), for example using ravel().\n",
      "  y = column_or_1d(y, warn=True)\n",
      "C:\\Users\\TriptiMall\\anaconda3\\lib\\site-packages\\sklearn\\preprocessing\\_label.py:98: DataConversionWarning: A column-vector y was passed when a 1d array was expected. Please change the shape of y to (n_samples, ), for example using ravel().\n",
      "  y = column_or_1d(y, warn=True)\n",
      "C:\\Users\\TriptiMall\\anaconda3\\lib\\site-packages\\sklearn\\preprocessing\\_label.py:133: DataConversionWarning: A column-vector y was passed when a 1d array was expected. Please change the shape of y to (n_samples, ), for example using ravel().\n",
      "  y = column_or_1d(y, warn=True)\n",
      "C:\\Users\\TriptiMall\\anaconda3\\lib\\site-packages\\sklearn\\preprocessing\\_label.py:98: DataConversionWarning: A column-vector y was passed when a 1d array was expected. Please change the shape of y to (n_samples, ), for example using ravel().\n",
      "  y = column_or_1d(y, warn=True)\n",
      "C:\\Users\\TriptiMall\\anaconda3\\lib\\site-packages\\sklearn\\preprocessing\\_label.py:133: DataConversionWarning: A column-vector y was passed when a 1d array was expected. Please change the shape of y to (n_samples, ), for example using ravel().\n",
      "  y = column_or_1d(y, warn=True)\n"
     ]
    },
    {
     "data": {
      "text/plain": [
       "array([2, 0, 3, 2, 2, 1, 0, 2, 2, 0, 2, 3, 0, 1, 2, 2, 1, 2, 2, 1, 0, 2,\n",
       "       1, 1, 2, 2, 2, 2, 1, 3, 3, 1, 3, 1, 1, 1, 2, 1, 0, 2, 3, 2, 2, 2,\n",
       "       0, 3, 2, 0, 1, 1, 3, 2, 1, 0, 2, 2, 3, 3, 0, 2, 2, 2, 0, 2, 3, 2,\n",
       "       3, 1, 1, 0, 0, 1, 3, 0, 1, 3, 2, 2, 0, 0, 2, 0, 1, 1, 1, 1, 2, 1,\n",
       "       0, 1, 1, 1, 0, 2, 0, 1, 2, 2, 2, 3, 1, 3, 3, 3, 0, 1, 1, 0, 1, 1,\n",
       "       0, 0, 1, 0, 1, 2, 3, 0, 0, 3, 0, 1, 3, 1, 0, 3, 1, 2, 0, 3, 2, 0,\n",
       "       0, 2, 2, 2, 1, 2, 2, 3, 0, 3, 0, 1, 1, 1, 0, 1, 2, 2, 0, 1, 0, 3,\n",
       "       1, 2, 3, 1, 3, 0, 3, 3, 1, 1, 3, 2, 2, 3, 0, 2, 0, 2, 2, 3, 1, 2,\n",
       "       2, 2, 0, 0, 0, 3, 1, 0, 2, 1, 0, 0, 1, 0, 1, 3, 0, 0, 1, 1, 1, 3,\n",
       "       0, 2, 1, 1, 1, 1, 3, 1, 0, 1, 2, 1, 1, 3, 1, 1, 2, 0, 1, 2, 1, 1,\n",
       "       3, 2, 1, 2, 0, 0, 2, 1, 0, 3, 0, 3, 0, 1, 3, 0, 1, 2, 0, 3, 3, 3,\n",
       "       1, 0, 3, 3, 3, 1, 3, 0, 3, 1, 1, 2, 1, 0, 1, 3, 3, 3, 2, 2, 2, 2,\n",
       "       0, 2, 0, 0, 2, 2, 3, 0, 1, 3, 3, 3, 1, 2, 1, 1, 2, 1, 1, 3, 1, 0,\n",
       "       1, 0, 3, 3, 3, 3, 0, 3, 0, 1, 2, 3, 3, 1, 1, 1, 0, 3, 3, 1, 1, 1,\n",
       "       0, 1, 1, 1, 2, 3, 1, 1, 3, 1, 0, 3, 0, 2, 1, 2, 3, 1, 3, 2, 0, 2,\n",
       "       0, 2, 2, 0, 2, 0, 1, 2, 0, 3, 0, 2, 1, 1, 2, 2, 1, 1, 0, 3, 0, 0,\n",
       "       0, 0, 3, 1, 1, 3, 3, 2, 0, 0, 3, 3, 3, 2, 3, 1, 1, 1, 1, 1, 1, 0,\n",
       "       1, 2, 1, 2, 3, 3, 3, 0, 1, 3, 0, 2, 0, 3, 1, 0, 0, 0, 1, 0, 3, 3,\n",
       "       1, 2, 1, 0, 3, 3, 0, 1, 0, 2, 1, 2, 0, 1, 0, 3, 2, 3, 3, 0, 1, 0,\n",
       "       2, 2, 3, 2, 1, 2, 1, 1, 2, 1, 2, 1, 3, 2, 1, 3, 0, 1, 1, 3, 3, 2,\n",
       "       1, 2, 1, 1, 2, 2, 1, 2, 0, 0, 0, 1])"
      ]
     },
     "execution_count": 54,
     "metadata": {},
     "output_type": "execute_result"
    }
   ],
   "source": [
    "from sklearn.model_selection import cross_val_predict\n",
    "cross_pred=cross_val_predict(bc,x_test,y_test,cv=kf)\n",
    "cross_pred"
   ]
  },
  {
   "cell_type": "code",
   "execution_count": 55,
   "id": "24df8678",
   "metadata": {},
   "outputs": [
    {
     "name": "stderr",
     "output_type": "stream",
     "text": [
      "C:\\Users\\TriptiMall\\anaconda3\\lib\\site-packages\\sklearn\\preprocessing\\_label.py:98: DataConversionWarning: A column-vector y was passed when a 1d array was expected. Please change the shape of y to (n_samples, ), for example using ravel().\n",
      "  y = column_or_1d(y, warn=True)\n",
      "C:\\Users\\TriptiMall\\anaconda3\\lib\\site-packages\\sklearn\\preprocessing\\_label.py:133: DataConversionWarning: A column-vector y was passed when a 1d array was expected. Please change the shape of y to (n_samples, ), for example using ravel().\n",
      "  y = column_or_1d(y, warn=True)\n",
      "C:\\Users\\TriptiMall\\anaconda3\\lib\\site-packages\\sklearn\\preprocessing\\_label.py:98: DataConversionWarning: A column-vector y was passed when a 1d array was expected. Please change the shape of y to (n_samples, ), for example using ravel().\n",
      "  y = column_or_1d(y, warn=True)\n",
      "C:\\Users\\TriptiMall\\anaconda3\\lib\\site-packages\\sklearn\\preprocessing\\_label.py:133: DataConversionWarning: A column-vector y was passed when a 1d array was expected. Please change the shape of y to (n_samples, ), for example using ravel().\n",
      "  y = column_or_1d(y, warn=True)\n",
      "C:\\Users\\TriptiMall\\anaconda3\\lib\\site-packages\\sklearn\\preprocessing\\_label.py:98: DataConversionWarning: A column-vector y was passed when a 1d array was expected. Please change the shape of y to (n_samples, ), for example using ravel().\n",
      "  y = column_or_1d(y, warn=True)\n",
      "C:\\Users\\TriptiMall\\anaconda3\\lib\\site-packages\\sklearn\\preprocessing\\_label.py:133: DataConversionWarning: A column-vector y was passed when a 1d array was expected. Please change the shape of y to (n_samples, ), for example using ravel().\n",
      "  y = column_or_1d(y, warn=True)\n",
      "C:\\Users\\TriptiMall\\anaconda3\\lib\\site-packages\\sklearn\\preprocessing\\_label.py:98: DataConversionWarning: A column-vector y was passed when a 1d array was expected. Please change the shape of y to (n_samples, ), for example using ravel().\n",
      "  y = column_or_1d(y, warn=True)\n",
      "C:\\Users\\TriptiMall\\anaconda3\\lib\\site-packages\\sklearn\\preprocessing\\_label.py:133: DataConversionWarning: A column-vector y was passed when a 1d array was expected. Please change the shape of y to (n_samples, ), for example using ravel().\n",
      "  y = column_or_1d(y, warn=True)\n",
      "C:\\Users\\TriptiMall\\anaconda3\\lib\\site-packages\\sklearn\\preprocessing\\_label.py:98: DataConversionWarning: A column-vector y was passed when a 1d array was expected. Please change the shape of y to (n_samples, ), for example using ravel().\n",
      "  y = column_or_1d(y, warn=True)\n",
      "C:\\Users\\TriptiMall\\anaconda3\\lib\\site-packages\\sklearn\\preprocessing\\_label.py:133: DataConversionWarning: A column-vector y was passed when a 1d array was expected. Please change the shape of y to (n_samples, ), for example using ravel().\n",
      "  y = column_or_1d(y, warn=True)\n",
      "C:\\Users\\TriptiMall\\anaconda3\\lib\\site-packages\\sklearn\\preprocessing\\_label.py:98: DataConversionWarning: A column-vector y was passed when a 1d array was expected. Please change the shape of y to (n_samples, ), for example using ravel().\n",
      "  y = column_or_1d(y, warn=True)\n",
      "C:\\Users\\TriptiMall\\anaconda3\\lib\\site-packages\\sklearn\\preprocessing\\_label.py:133: DataConversionWarning: A column-vector y was passed when a 1d array was expected. Please change the shape of y to (n_samples, ), for example using ravel().\n",
      "  y = column_or_1d(y, warn=True)\n",
      "C:\\Users\\TriptiMall\\anaconda3\\lib\\site-packages\\sklearn\\preprocessing\\_label.py:98: DataConversionWarning: A column-vector y was passed when a 1d array was expected. Please change the shape of y to (n_samples, ), for example using ravel().\n",
      "  y = column_or_1d(y, warn=True)\n",
      "C:\\Users\\TriptiMall\\anaconda3\\lib\\site-packages\\sklearn\\preprocessing\\_label.py:133: DataConversionWarning: A column-vector y was passed when a 1d array was expected. Please change the shape of y to (n_samples, ), for example using ravel().\n",
      "  y = column_or_1d(y, warn=True)\n"
     ]
    },
    {
     "data": {
      "text/plain": [
       "array([0.86821705, 0.87984496, 0.86821705, 0.8875969 , 0.86046512,\n",
       "       0.87159533, 0.87548638])"
      ]
     },
     "execution_count": 55,
     "metadata": {},
     "output_type": "execute_result"
    }
   ],
   "source": [
    "from sklearn.model_selection import cross_val_score\n",
    "cross_score=cross_val_score(bc,x_train,y_train,cv=kf)\n",
    "cross_score"
   ]
  },
  {
   "cell_type": "code",
   "execution_count": 56,
   "id": "47d0ae31",
   "metadata": {},
   "outputs": [
    {
     "data": {
      "text/plain": [
       "87.30603996190821"
      ]
     },
     "execution_count": 56,
     "metadata": {},
     "output_type": "execute_result"
    }
   ],
   "source": [
    "ac5=cross_score.mean()*100\n",
    "ac5"
   ]
  },
  {
   "cell_type": "code",
   "execution_count": null,
   "id": "917bb6c4",
   "metadata": {},
   "outputs": [],
   "source": []
  },
  {
   "cell_type": "code",
   "execution_count": null,
   "id": "016ee65a",
   "metadata": {},
   "outputs": [],
   "source": []
  },
  {
   "cell_type": "code",
   "execution_count": null,
   "id": "2da16cd6",
   "metadata": {},
   "outputs": [],
   "source": []
  },
  {
   "cell_type": "code",
   "execution_count": null,
   "id": "1494b161",
   "metadata": {},
   "outputs": [],
   "source": []
  },
  {
   "cell_type": "code",
   "execution_count": null,
   "id": "b878b021",
   "metadata": {},
   "outputs": [],
   "source": []
  }
 ],
 "metadata": {
  "kernelspec": {
   "display_name": "Python 3 (ipykernel)",
   "language": "python",
   "name": "python3"
  },
  "language_info": {
   "codemirror_mode": {
    "name": "ipython",
    "version": 3
   },
   "file_extension": ".py",
   "mimetype": "text/x-python",
   "name": "python",
   "nbconvert_exporter": "python",
   "pygments_lexer": "ipython3",
   "version": "3.9.12"
  }
 },
 "nbformat": 4,
 "nbformat_minor": 5
}
